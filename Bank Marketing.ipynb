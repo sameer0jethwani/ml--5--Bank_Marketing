{
 "cells": [
  {
   "cell_type": "markdown",
   "metadata": {},
   "source": [
    "## Import Libraries"
   ]
  },
  {
   "cell_type": "code",
   "execution_count": 1,
   "metadata": {
    "_cell_guid": "b1076dfc-b9ad-4769-8c92-a6c4dae69d19",
    "_uuid": "8f2839f25d086af736a60e9eeb907d3b93b6e0e5"
   },
   "outputs": [],
   "source": [
    "#import linear algebra and data manipulation libraries\n",
    "import numpy as np\n",
    "import pandas as pd\n",
    "\n",
    "#import standard visualization\n",
    "import matplotlib.pyplot as plt\n",
    "import seaborn as sns"
   ]
  },
  {
   "cell_type": "markdown",
   "metadata": {
    "_uuid": "d057ad9813d19401880ce8b371182932116a1f7c"
   },
   "source": [
    "## Import Data"
   ]
  },
  {
   "cell_type": "markdown",
   "metadata": {
    "_uuid": "5a4dadfb35b585a67718e07b59e9da0eebe61763"
   },
   "source": [
    "First of all to perform the analysis, we have to import the data:"
   ]
  },
  {
   "cell_type": "code",
   "execution_count": 2,
   "metadata": {
    "_uuid": "a9e0b0369f8fae1a5698b145fa7617324442ddc9"
   },
   "outputs": [],
   "source": [
    "#import dataset\n",
    "\n",
    "df = pd.read_csv('bank.csv', delimiter=';')"
   ]
  },
  {
   "cell_type": "code",
   "execution_count": 3,
   "metadata": {},
   "outputs": [],
   "source": [
    "df.rename(columns={'y':'deposit'}, inplace=True)"
   ]
  },
  {
   "cell_type": "code",
   "execution_count": 4,
   "metadata": {
    "_uuid": "266f8b3610c11aa8e0daad0e60f8f6ae47a5835f"
   },
   "outputs": [
    {
     "data": {
      "text/html": [
       "<div>\n",
       "<style scoped>\n",
       "    .dataframe tbody tr th:only-of-type {\n",
       "        vertical-align: middle;\n",
       "    }\n",
       "\n",
       "    .dataframe tbody tr th {\n",
       "        vertical-align: top;\n",
       "    }\n",
       "\n",
       "    .dataframe thead th {\n",
       "        text-align: right;\n",
       "    }\n",
       "</style>\n",
       "<table border=\"1\" class=\"dataframe\">\n",
       "  <thead>\n",
       "    <tr style=\"text-align: right;\">\n",
       "      <th></th>\n",
       "      <th>age</th>\n",
       "      <th>job</th>\n",
       "      <th>marital</th>\n",
       "      <th>education</th>\n",
       "      <th>default</th>\n",
       "      <th>balance</th>\n",
       "      <th>housing</th>\n",
       "      <th>loan</th>\n",
       "      <th>contact</th>\n",
       "      <th>day</th>\n",
       "      <th>month</th>\n",
       "      <th>duration</th>\n",
       "      <th>campaign</th>\n",
       "      <th>pdays</th>\n",
       "      <th>previous</th>\n",
       "      <th>poutcome</th>\n",
       "      <th>deposit</th>\n",
       "    </tr>\n",
       "  </thead>\n",
       "  <tbody>\n",
       "    <tr>\n",
       "      <th>0</th>\n",
       "      <td>30</td>\n",
       "      <td>unemployed</td>\n",
       "      <td>married</td>\n",
       "      <td>primary</td>\n",
       "      <td>no</td>\n",
       "      <td>1787</td>\n",
       "      <td>no</td>\n",
       "      <td>no</td>\n",
       "      <td>cellular</td>\n",
       "      <td>19</td>\n",
       "      <td>oct</td>\n",
       "      <td>79</td>\n",
       "      <td>1</td>\n",
       "      <td>-1</td>\n",
       "      <td>0</td>\n",
       "      <td>unknown</td>\n",
       "      <td>no</td>\n",
       "    </tr>\n",
       "    <tr>\n",
       "      <th>1</th>\n",
       "      <td>33</td>\n",
       "      <td>services</td>\n",
       "      <td>married</td>\n",
       "      <td>secondary</td>\n",
       "      <td>no</td>\n",
       "      <td>4789</td>\n",
       "      <td>yes</td>\n",
       "      <td>yes</td>\n",
       "      <td>cellular</td>\n",
       "      <td>11</td>\n",
       "      <td>may</td>\n",
       "      <td>220</td>\n",
       "      <td>1</td>\n",
       "      <td>339</td>\n",
       "      <td>4</td>\n",
       "      <td>failure</td>\n",
       "      <td>no</td>\n",
       "    </tr>\n",
       "    <tr>\n",
       "      <th>2</th>\n",
       "      <td>35</td>\n",
       "      <td>management</td>\n",
       "      <td>single</td>\n",
       "      <td>tertiary</td>\n",
       "      <td>no</td>\n",
       "      <td>1350</td>\n",
       "      <td>yes</td>\n",
       "      <td>no</td>\n",
       "      <td>cellular</td>\n",
       "      <td>16</td>\n",
       "      <td>apr</td>\n",
       "      <td>185</td>\n",
       "      <td>1</td>\n",
       "      <td>330</td>\n",
       "      <td>1</td>\n",
       "      <td>failure</td>\n",
       "      <td>no</td>\n",
       "    </tr>\n",
       "    <tr>\n",
       "      <th>3</th>\n",
       "      <td>30</td>\n",
       "      <td>management</td>\n",
       "      <td>married</td>\n",
       "      <td>tertiary</td>\n",
       "      <td>no</td>\n",
       "      <td>1476</td>\n",
       "      <td>yes</td>\n",
       "      <td>yes</td>\n",
       "      <td>unknown</td>\n",
       "      <td>3</td>\n",
       "      <td>jun</td>\n",
       "      <td>199</td>\n",
       "      <td>4</td>\n",
       "      <td>-1</td>\n",
       "      <td>0</td>\n",
       "      <td>unknown</td>\n",
       "      <td>no</td>\n",
       "    </tr>\n",
       "    <tr>\n",
       "      <th>4</th>\n",
       "      <td>59</td>\n",
       "      <td>blue-collar</td>\n",
       "      <td>married</td>\n",
       "      <td>secondary</td>\n",
       "      <td>no</td>\n",
       "      <td>0</td>\n",
       "      <td>yes</td>\n",
       "      <td>no</td>\n",
       "      <td>unknown</td>\n",
       "      <td>5</td>\n",
       "      <td>may</td>\n",
       "      <td>226</td>\n",
       "      <td>1</td>\n",
       "      <td>-1</td>\n",
       "      <td>0</td>\n",
       "      <td>unknown</td>\n",
       "      <td>no</td>\n",
       "    </tr>\n",
       "  </tbody>\n",
       "</table>\n",
       "</div>"
      ],
      "text/plain": [
       "   age          job  marital  education default  balance housing loan  \\\n",
       "0   30   unemployed  married    primary      no     1787      no   no   \n",
       "1   33     services  married  secondary      no     4789     yes  yes   \n",
       "2   35   management   single   tertiary      no     1350     yes   no   \n",
       "3   30   management  married   tertiary      no     1476     yes  yes   \n",
       "4   59  blue-collar  married  secondary      no        0     yes   no   \n",
       "\n",
       "    contact  day month  duration  campaign  pdays  previous poutcome deposit  \n",
       "0  cellular   19   oct        79         1     -1         0  unknown      no  \n",
       "1  cellular   11   may       220         1    339         4  failure      no  \n",
       "2  cellular   16   apr       185         1    330         1  failure      no  \n",
       "3   unknown    3   jun       199         4     -1         0  unknown      no  \n",
       "4   unknown    5   may       226         1     -1         0  unknown      no  "
      ]
     },
     "execution_count": 4,
     "metadata": {},
     "output_type": "execute_result"
    }
   ],
   "source": [
    "#display first 5 rows of dataset \n",
    "df.head()"
   ]
  },
  {
   "cell_type": "markdown",
   "metadata": {
    "_uuid": "bf287fe95fb1b66e9356968471927ebadb5709a3"
   },
   "source": [
    "## Data Exploration"
   ]
  },
  {
   "cell_type": "markdown",
   "metadata": {
    "_uuid": "5b3c742e8301172bed5e08f19aebf847733b1804"
   },
   "source": [
    "After we imported the dataset, we have to look at the total number of rows in the dataset and analyze the number of missing values."
   ]
  },
  {
   "cell_type": "code",
   "execution_count": 5,
   "metadata": {
    "_uuid": "d2743db4357220306a9eac9702dd66689a58c761"
   },
   "outputs": [
    {
     "name": "stdout",
     "output_type": "stream",
     "text": [
      "Bank marketing dataset consists of 4521 rows.\n"
     ]
    }
   ],
   "source": [
    "# number of rows in dataset\n",
    "\n",
    "print(\"Bank marketing dataset consists of {rows} rows.\".format(rows = len(df)))"
   ]
  },
  {
   "cell_type": "code",
   "execution_count": 6,
   "metadata": {
    "_uuid": "09d1ee4ba165f08cd0bc71504ac494afc28c9a46"
   },
   "outputs": [
    {
     "data": {
      "text/plain": [
       "0.0"
      ]
     },
     "execution_count": 6,
     "metadata": {},
     "output_type": "execute_result"
    }
   ],
   "source": [
    "#find percentage of missing values for each column\n",
    "missing_values = df.isnull().mean()*100\n",
    "\n",
    "missing_values.sum()"
   ]
  },
  {
   "cell_type": "markdown",
   "metadata": {
    "_uuid": "9953cbc2a8e6fce30f123a482ec4cfb60ee5440b"
   },
   "source": [
    "So we see that there are no missing values."
   ]
  },
  {
   "cell_type": "markdown",
   "metadata": {
    "_uuid": "9439da6f9f0c817e948da870b401d6501a7e61e8"
   },
   "source": [
    "### Categorical columns exploration"
   ]
  },
  {
   "cell_type": "markdown",
   "metadata": {
    "_uuid": "70089e821d45ea593c562a833ee6989202be0583"
   },
   "source": [
    "In the dataset we have both categorical and numerical columns. Let's look at the values of categorical columns first."
   ]
  },
  {
   "cell_type": "code",
   "execution_count": 7,
   "metadata": {
    "_uuid": "1938266853e56fbb269f1d8a45c12786e3be18d9"
   },
   "outputs": [
    {
     "data": {
      "image/png": "[encoded data removed]",
      "text/plain": [
       "<Figure size 1440x1080 with 9 Axes>"
      ]
     },
     "metadata": {
      "needs_background": "light"
     },
     "output_type": "display_data"
    }
   ],
   "source": [
    "cat_columns = ['job', 'marital', 'education', 'default', 'housing', 'loan', 'contact', 'month','poutcome']\n",
    "\n",
    "fig, axs = plt.subplots(3, 3, sharex=False, sharey=False, figsize=(20, 15))\n",
    "\n",
    "counter = 0\n",
    "for cat_column in cat_columns:\n",
    "    value_counts = df[cat_column].value_counts()\n",
    "    \n",
    "    trace_x = counter // 3\n",
    "    trace_y = counter % 3\n",
    "    x_pos = np.arange(0, len(value_counts))\n",
    "    \n",
    "    axs[trace_x, trace_y].bar(x_pos, value_counts.values, tick_label = value_counts.index)\n",
    "    \n",
    "    axs[trace_x, trace_y].set_title(cat_column)\n",
    "    \n",
    "    for tick in axs[trace_x, trace_y].get_xticklabels():\n",
    "        tick.set_rotation(90)\n",
    "    \n",
    "    counter += 1\n",
    "\n",
    "plt.show()"
   ]
  },
  {
   "cell_type": "markdown",
   "metadata": {
    "_uuid": "52e08f6727a73fc7ad9c4959ea16de52df98f6b4"
   },
   "source": [
    "### Numerical columns exploration"
   ]
  },
  {
   "cell_type": "markdown",
   "metadata": {
    "_uuid": "074b44ddc19e530e9a09e0bc4a252c18d906f539"
   },
   "source": [
    "Now let's look at the numerical columns' values. The most convenient way to look at the numerical values is plotting histograms."
   ]
  },
  {
   "cell_type": "code",
   "execution_count": 8,
   "metadata": {
    "_uuid": "4996808611a63346302571b98d824d05d863490e"
   },
   "outputs": [
    {
     "data": {
      "image/png": "[encoded data removed]",
      "text/plain": [
       "<Figure size 1440x1080 with 6 Axes>"
      ]
     },
     "metadata": {
      "needs_background": "light"
     },
     "output_type": "display_data"
    }
   ],
   "source": [
    "num_columns = ['balance', 'day','duration', 'campaign', 'pdays', 'previous']\n",
    "\n",
    "fig, axs = plt.subplots(2, 3, sharex=False, sharey=False, figsize=(20, 15))\n",
    "\n",
    "counter = 0\n",
    "for num_column in num_columns:\n",
    "    \n",
    "    trace_x = counter // 3\n",
    "    trace_y = counter % 3\n",
    "    \n",
    "    axs[trace_x, trace_y].hist(df[num_column])\n",
    "    \n",
    "    axs[trace_x, trace_y].set_title(num_column)\n",
    "    \n",
    "    counter += 1\n",
    "\n",
    "plt.show()"
   ]
  },
  {
   "cell_type": "markdown",
   "metadata": {
    "_uuid": "8b9d668fc8f287bc0fd8745326f743cc97bf18bd"
   },
   "source": [
    "We can see that numerical columns have outliers (especially 'pdays', 'campaign' and 'previous' columns). Possibly there are incorrect values (noisy data), so we should look closer at the data and decide how do we manage the noise.\n",
    "<br> Let's look closer at the values of 'campaign', 'pdays' and 'previous' columns:"
   ]
  },
  {
   "cell_type": "code",
   "execution_count": 9,
   "metadata": {
    "_uuid": "bf3a266798fa38e8542790767f3b3de7ace40aa1"
   },
   "outputs": [
    {
     "data": {
      "text/html": [
       "<div>\n",
       "<style scoped>\n",
       "    .dataframe tbody tr th:only-of-type {\n",
       "        vertical-align: middle;\n",
       "    }\n",
       "\n",
       "    .dataframe tbody tr th {\n",
       "        vertical-align: top;\n",
       "    }\n",
       "\n",
       "    .dataframe thead th {\n",
       "        text-align: right;\n",
       "    }\n",
       "</style>\n",
       "<table border=\"1\" class=\"dataframe\">\n",
       "  <thead>\n",
       "    <tr style=\"text-align: right;\">\n",
       "      <th></th>\n",
       "      <th>pdays</th>\n",
       "      <th>campaign</th>\n",
       "      <th>previous</th>\n",
       "    </tr>\n",
       "  </thead>\n",
       "  <tbody>\n",
       "    <tr>\n",
       "      <th>count</th>\n",
       "      <td>4521.000000</td>\n",
       "      <td>4521.000000</td>\n",
       "      <td>4521.000000</td>\n",
       "    </tr>\n",
       "    <tr>\n",
       "      <th>mean</th>\n",
       "      <td>39.766645</td>\n",
       "      <td>2.793630</td>\n",
       "      <td>0.542579</td>\n",
       "    </tr>\n",
       "    <tr>\n",
       "      <th>std</th>\n",
       "      <td>100.121124</td>\n",
       "      <td>3.109807</td>\n",
       "      <td>1.693562</td>\n",
       "    </tr>\n",
       "    <tr>\n",
       "      <th>min</th>\n",
       "      <td>-1.000000</td>\n",
       "      <td>1.000000</td>\n",
       "      <td>0.000000</td>\n",
       "    </tr>\n",
       "    <tr>\n",
       "      <th>25%</th>\n",
       "      <td>-1.000000</td>\n",
       "      <td>1.000000</td>\n",
       "      <td>0.000000</td>\n",
       "    </tr>\n",
       "    <tr>\n",
       "      <th>50%</th>\n",
       "      <td>-1.000000</td>\n",
       "      <td>2.000000</td>\n",
       "      <td>0.000000</td>\n",
       "    </tr>\n",
       "    <tr>\n",
       "      <th>75%</th>\n",
       "      <td>-1.000000</td>\n",
       "      <td>3.000000</td>\n",
       "      <td>0.000000</td>\n",
       "    </tr>\n",
       "    <tr>\n",
       "      <th>max</th>\n",
       "      <td>871.000000</td>\n",
       "      <td>50.000000</td>\n",
       "      <td>25.000000</td>\n",
       "    </tr>\n",
       "  </tbody>\n",
       "</table>\n",
       "</div>"
      ],
      "text/plain": [
       "             pdays     campaign     previous\n",
       "count  4521.000000  4521.000000  4521.000000\n",
       "mean     39.766645     2.793630     0.542579\n",
       "std     100.121124     3.109807     1.693562\n",
       "min      -1.000000     1.000000     0.000000\n",
       "25%      -1.000000     1.000000     0.000000\n",
       "50%      -1.000000     2.000000     0.000000\n",
       "75%      -1.000000     3.000000     0.000000\n",
       "max     871.000000    50.000000    25.000000"
      ]
     },
     "execution_count": 9,
     "metadata": {},
     "output_type": "execute_result"
    }
   ],
   "source": [
    "df[['pdays', 'campaign', 'previous']].describe()"
   ]
  },
  {
   "cell_type": "markdown",
   "metadata": {
    "_uuid": "b18209f25f8f8beba8b0f8e5c5db759318a4b102"
   },
   "source": [
    "Percentage of 'pdays' values above 400:"
   ]
  },
  {
   "cell_type": "code",
   "execution_count": 10,
   "metadata": {
    "_uuid": "8db77b60bff2efa4960db6ff510e01642456cc4c"
   },
   "outputs": [
    {
     "data": {
      "text/plain": [
       "0.57509400575094"
      ]
     },
     "execution_count": 10,
     "metadata": {},
     "output_type": "execute_result"
    }
   ],
   "source": [
    "len (df[df['pdays'] > 400] ) / len(df) * 100"
   ]
  },
  {
   "cell_type": "markdown",
   "metadata": {
    "_uuid": "a03f4e173db68ae35442d34c10905313d9e1c6a1"
   },
   "source": [
    "'pdays' holds the number of days that passed by after the client was last contacted from a previous campaign\n",
    "Looking closer into 'pdays' data we can see that:\n",
    "* only 1.2% of values above 400. They are possibly outliers, so we should consider imputing something (possibly mean value) instead of these values.\n",
    "* -1 possibly means that the client wasn't contacted before or stands for missing data.\n",
    "\n",
    "Since we are not sure exactly what -1 means I suggest to drop this column, because -1 makes more than 50% of the values of the column."
   ]
  },
  {
   "cell_type": "markdown",
   "metadata": {
    "_uuid": "3efa8cdcbe424cd936e1e764a0333ba4e2b08744"
   },
   "source": [
    "Percentage of 'campaign' values above 20:"
   ]
  },
  {
   "cell_type": "code",
   "execution_count": 11,
   "metadata": {
    "_uuid": "f3aabd2eed6cd14b5bb4d9de47519faf28f6557a"
   },
   "outputs": [
    {
     "data": {
      "text/plain": [
       "0.04423800044238001"
      ]
     },
     "execution_count": 11,
     "metadata": {},
     "output_type": "execute_result"
    }
   ],
   "source": [
    "len (df[df['campaign'] > 34] ) / len(df) * 100"
   ]
  },
  {
   "cell_type": "markdown",
   "metadata": {
    "_uuid": "0a5ac6bfde358fe53dcbaf13d61168824c6ce5a7"
   },
   "source": [
    "'campaign' holds the number of contacts performed during this campaign and for this client (numeric, includes last contact)\n",
    "Numbers for 'campaign' above 34 are clearly noise, so I suggest to impute them with average campaign values while data cleaning."
   ]
  },
  {
   "cell_type": "markdown",
   "metadata": {
    "_uuid": "d89667f07a89c9a3d4e02fcf60d8a273353c5a3e"
   },
   "source": [
    "Percentage of 'previous' values above 20:"
   ]
  },
  {
   "cell_type": "code",
   "execution_count": 12,
   "metadata": {
    "_uuid": "5d39f875c94eef6961b49826cec929d21c595f50"
   },
   "outputs": [
    {
     "data": {
      "text/plain": [
       "0.0"
      ]
     },
     "execution_count": 12,
     "metadata": {},
     "output_type": "execute_result"
    }
   ],
   "source": [
    "len (df[df['previous'] > 34] ) / len(df) * 100"
   ]
  },
  {
   "cell_type": "markdown",
   "metadata": {
    "_uuid": "3bf6e16161dbb736ca2da4d3033d2201cff99b0e"
   },
   "source": [
    "'previous' holds the number of contacts performed before this campaign and for this client (numeric)\n",
    "Numbers for 'previous' above 34 are also really strange, so I suggest to impute them with average campaign values while data cleaning."
   ]
  },
  {
   "cell_type": "markdown",
   "metadata": {
    "_uuid": "23413f846914b7bc38a785f1ac4c6c5542d81712"
   },
   "source": [
    "### Analysis of the response column"
   ]
  },
  {
   "cell_type": "markdown",
   "metadata": {
    "_uuid": "aed4354ab2aa412a629185d495efd4d6fefb18ca"
   },
   "source": [
    "It is very important to look at the response column, which holds the information, which we are going to predict. In our case we should look at 'deposit' column and compare its values to other columns. \n",
    "<br> First of all we should look at the number of 'yes' and 'no' values in the response column 'deposit'."
   ]
  },
  {
   "cell_type": "code",
   "execution_count": 13,
   "metadata": {
    "_uuid": "63142d576f819e0250ed39d06a9e2c4c8eb67fa0"
   },
   "outputs": [
    {
     "data": {
      "text/plain": [
       "<AxesSubplot:title={'center':'Deposit value counts'}>"
      ]
     },
     "execution_count": 13,
     "metadata": {},
     "output_type": "execute_result"
    },
    {
     "data": {
      "image/png": "[encoded data removed]",
      "text/plain": [
       "<Figure size 432x288 with 1 Axes>"
      ]
     },
     "metadata": {
      "needs_background": "light"
     },
     "output_type": "display_data"
    }
   ],
   "source": [
    "value_counts = df['deposit'].value_counts()\n",
    "\n",
    "value_counts.plot.bar(title = 'Deposit value counts')"
   ]
  },
  {
   "cell_type": "markdown",
   "metadata": {
    "_uuid": "7f84c8aaa1e3f46292f6c148840d7a0f2fb5fd8d"
   },
   "source": [
    "On the diagram we see that counts for 'yes' and 'no' values for 'deposit' are close, so we can use accuracy as a metric for a model, which predicts the campaign outcome."
   ]
  },
  {
   "cell_type": "markdown",
   "metadata": {
    "_uuid": "bf10cca9bb8132ba04f9443a8e89f436284d33d0"
   },
   "source": [
    "Let's see how 'deposit' column value varies depending on other categorical columns' values:"
   ]
  },
  {
   "cell_type": "code",
   "execution_count": 14,
   "metadata": {
    "_uuid": "fd37526354b859d2ff3a82e733866950842b9a39"
   },
   "outputs": [
    {
     "data": {
      "text/plain": [
       "<AxesSubplot:title={'center':'Job and deposit'}>"
      ]
     },
     "execution_count": 14,
     "metadata": {},
     "output_type": "execute_result"
    },
    {
     "data": {
      "image/png": "[encoded data removed]",
      "text/plain": [
       "<Figure size 432x288 with 1 Axes>"
      ]
     },
     "metadata": {
      "needs_background": "light"
     },
     "output_type": "display_data"
    }
   ],
   "source": [
    "#job and deposit\n",
    "j_df = pd.DataFrame()\n",
    "\n",
    "j_df['yes'] = df[df['deposit'] == 'yes']['job'].value_counts()\n",
    "j_df['no'] = df[df['deposit'] == 'no']['job'].value_counts()\n",
    "\n",
    "j_df.plot.bar(title = 'Job and deposit')"
   ]
  },
  {
   "cell_type": "code",
   "execution_count": 15,
   "metadata": {
    "_uuid": "fcbfe84749f96ab892485f74df1d3a1420c1fea9"
   },
   "outputs": [
    {
     "data": {
      "text/plain": [
       "<AxesSubplot:title={'center':'Marital status and deposit'}>"
      ]
     },
     "execution_count": 15,
     "metadata": {},
     "output_type": "execute_result"
    },
    {
     "data": {
      "image/png": "[encoded data removed]",
      "text/plain": [
       "<Figure size 432x288 with 1 Axes>"
      ]
     },
     "metadata": {
      "needs_background": "light"
     },
     "output_type": "display_data"
    }
   ],
   "source": [
    "#marital status and deposit\n",
    "j_df = pd.DataFrame()\n",
    "\n",
    "j_df['yes'] = df[df['deposit'] == 'yes']['marital'].value_counts()\n",
    "j_df['no'] = df[df['deposit'] == 'no']['marital'].value_counts()\n",
    "\n",
    "j_df.plot.bar(title = 'Marital status and deposit')"
   ]
  },
  {
   "cell_type": "code",
   "execution_count": 16,
   "metadata": {
    "_uuid": "41865164c1c1cebe2eba5dcdfd774d028ef80606"
   },
   "outputs": [
    {
     "data": {
      "text/plain": [
       "<AxesSubplot:title={'center':'Education and deposit'}>"
      ]
     },
     "execution_count": 16,
     "metadata": {},
     "output_type": "execute_result"
    },
    {
     "data": {
      "image/png": "[encoded data removed]",
      "text/plain": [
       "<Figure size 432x288 with 1 Axes>"
      ]
     },
     "metadata": {
      "needs_background": "light"
     },
     "output_type": "display_data"
    }
   ],
   "source": [
    "#education and deposit\n",
    "j_df = pd.DataFrame()\n",
    "\n",
    "j_df['yes'] = df[df['deposit'] == 'yes']['education'].value_counts()\n",
    "j_df['no'] = df[df['deposit'] == 'no']['education'].value_counts()\n",
    "\n",
    "j_df.plot.bar(title = 'Education and deposit')"
   ]
  },
  {
   "cell_type": "code",
   "execution_count": 17,
   "metadata": {
    "_uuid": "1418d58637ea1ea831d2b17fd2de74679a92d0cc"
   },
   "outputs": [
    {
     "data": {
      "text/plain": [
       "<AxesSubplot:title={'center':'Type of contact and deposit'}>"
      ]
     },
     "execution_count": 17,
     "metadata": {},
     "output_type": "execute_result"
    },
    {
     "data": {
      "image/png": "[encoded data removed]",
      "text/plain": [
       "<Figure size 432x288 with 1 Axes>"
      ]
     },
     "metadata": {
      "needs_background": "light"
     },
     "output_type": "display_data"
    }
   ],
   "source": [
    "#type of contact and deposit\n",
    "j_df = pd.DataFrame()\n",
    "\n",
    "j_df['yes'] = df[df['deposit'] == 'yes']['contact'].value_counts()\n",
    "j_df['no'] = df[df['deposit'] == 'no']['contact'].value_counts()\n",
    "\n",
    "j_df.plot.bar(title = 'Type of contact and deposit')"
   ]
  },
  {
   "cell_type": "markdown",
   "metadata": {
    "_uuid": "ce7acc045351b74bfb2bc283a30ae5d13bce4556"
   },
   "source": [
    "Regarding the diagrams we can tell that according to our dataset:\n",
    "1. Customers with 'blue-collar' and 'services' jobs are less likely to subscribe for term deposit.\n",
    "2. Married customers are less likely to subscribe for term deposit.\n",
    "3. Customers with 'cellular' type of contact are less likely to subscribe for term deposit."
   ]
  },
  {
   "cell_type": "markdown",
   "metadata": {
    "_uuid": "351b2a7d2ff6af767b61c0cb478fac05010b23ce"
   },
   "source": [
    "Now let's look how numerical columns affect term deposit subscription."
   ]
  },
  {
   "cell_type": "code",
   "execution_count": 18,
   "metadata": {
    "_uuid": "85f440e31a4735c92235c12b07dae34a61719076"
   },
   "outputs": [
    {
     "data": {
      "text/html": [
       "<div>\n",
       "<style scoped>\n",
       "    .dataframe tbody tr th:only-of-type {\n",
       "        vertical-align: middle;\n",
       "    }\n",
       "\n",
       "    .dataframe tbody tr th {\n",
       "        vertical-align: top;\n",
       "    }\n",
       "\n",
       "    .dataframe thead th {\n",
       "        text-align: right;\n",
       "    }\n",
       "</style>\n",
       "<table border=\"1\" class=\"dataframe\">\n",
       "  <thead>\n",
       "    <tr style=\"text-align: right;\">\n",
       "      <th></th>\n",
       "      <th>balance_yes</th>\n",
       "      <th>balance_no</th>\n",
       "    </tr>\n",
       "  </thead>\n",
       "  <tbody>\n",
       "    <tr>\n",
       "      <th>count</th>\n",
       "      <td>521.000000</td>\n",
       "      <td>4000.000000</td>\n",
       "    </tr>\n",
       "    <tr>\n",
       "      <th>mean</th>\n",
       "      <td>1571.955854</td>\n",
       "      <td>1403.211750</td>\n",
       "    </tr>\n",
       "    <tr>\n",
       "      <th>std</th>\n",
       "      <td>2444.398956</td>\n",
       "      <td>3075.349313</td>\n",
       "    </tr>\n",
       "    <tr>\n",
       "      <th>min</th>\n",
       "      <td>-1206.000000</td>\n",
       "      <td>-3313.000000</td>\n",
       "    </tr>\n",
       "    <tr>\n",
       "      <th>25%</th>\n",
       "      <td>171.000000</td>\n",
       "      <td>61.000000</td>\n",
       "    </tr>\n",
       "    <tr>\n",
       "      <th>50%</th>\n",
       "      <td>710.000000</td>\n",
       "      <td>419.500000</td>\n",
       "    </tr>\n",
       "    <tr>\n",
       "      <th>75%</th>\n",
       "      <td>2160.000000</td>\n",
       "      <td>1407.000000</td>\n",
       "    </tr>\n",
       "    <tr>\n",
       "      <th>max</th>\n",
       "      <td>26965.000000</td>\n",
       "      <td>71188.000000</td>\n",
       "    </tr>\n",
       "  </tbody>\n",
       "</table>\n",
       "</div>"
      ],
      "text/plain": [
       "        balance_yes    balance_no\n",
       "count    521.000000   4000.000000\n",
       "mean    1571.955854   1403.211750\n",
       "std     2444.398956   3075.349313\n",
       "min    -1206.000000  -3313.000000\n",
       "25%      171.000000     61.000000\n",
       "50%      710.000000    419.500000\n",
       "75%     2160.000000   1407.000000\n",
       "max    26965.000000  71188.000000"
      ]
     },
     "execution_count": 18,
     "metadata": {},
     "output_type": "execute_result"
    }
   ],
   "source": [
    "#balance and deposit\n",
    "\n",
    "b_df = pd.DataFrame()\n",
    "b_df['balance_yes'] = (df[df['deposit'] == 'yes'][['deposit','balance']].describe())['balance']\n",
    "b_df['balance_no'] = (df[df['deposit'] == 'no'][['deposit','balance']].describe())['balance']\n",
    "\n",
    "b_df"
   ]
  },
  {
   "cell_type": "code",
   "execution_count": 19,
   "metadata": {
    "_uuid": "4fdfb640e72e4b6f6cbff055b2d3d35e2053fa3b"
   },
   "outputs": [
    {
     "data": {
      "text/plain": [
       "<AxesSubplot:title={'center':'Balance and deposit statistics'}>"
      ]
     },
     "execution_count": 19,
     "metadata": {},
     "output_type": "execute_result"
    },
    {
     "data": {
      "image/png": "[encoded data removed]",
      "text/plain": [
       "<Figure size 432x288 with 1 Axes>"
      ]
     },
     "metadata": {
      "needs_background": "light"
     },
     "output_type": "display_data"
    }
   ],
   "source": [
    "b_df.drop(['count', '25%', '50%', '75%']).plot.bar(title = 'Balance and deposit statistics')"
   ]
  },
  {
   "cell_type": "code",
   "execution_count": 20,
   "metadata": {
    "_uuid": "054bf8c7aca1045516d9085f3c3764af142f4741"
   },
   "outputs": [
    {
     "data": {
      "text/html": [
       "<div>\n",
       "<style scoped>\n",
       "    .dataframe tbody tr th:only-of-type {\n",
       "        vertical-align: middle;\n",
       "    }\n",
       "\n",
       "    .dataframe tbody tr th {\n",
       "        vertical-align: top;\n",
       "    }\n",
       "\n",
       "    .dataframe thead th {\n",
       "        text-align: right;\n",
       "    }\n",
       "</style>\n",
       "<table border=\"1\" class=\"dataframe\">\n",
       "  <thead>\n",
       "    <tr style=\"text-align: right;\">\n",
       "      <th></th>\n",
       "      <th>age_yes</th>\n",
       "      <th>age_no</th>\n",
       "    </tr>\n",
       "  </thead>\n",
       "  <tbody>\n",
       "    <tr>\n",
       "      <th>count</th>\n",
       "      <td>521.000000</td>\n",
       "      <td>4000.000000</td>\n",
       "    </tr>\n",
       "    <tr>\n",
       "      <th>mean</th>\n",
       "      <td>42.491363</td>\n",
       "      <td>40.998000</td>\n",
       "    </tr>\n",
       "    <tr>\n",
       "      <th>std</th>\n",
       "      <td>13.115772</td>\n",
       "      <td>10.188398</td>\n",
       "    </tr>\n",
       "    <tr>\n",
       "      <th>min</th>\n",
       "      <td>19.000000</td>\n",
       "      <td>19.000000</td>\n",
       "    </tr>\n",
       "    <tr>\n",
       "      <th>25%</th>\n",
       "      <td>32.000000</td>\n",
       "      <td>33.000000</td>\n",
       "    </tr>\n",
       "    <tr>\n",
       "      <th>50%</th>\n",
       "      <td>40.000000</td>\n",
       "      <td>39.000000</td>\n",
       "    </tr>\n",
       "    <tr>\n",
       "      <th>75%</th>\n",
       "      <td>50.000000</td>\n",
       "      <td>48.000000</td>\n",
       "    </tr>\n",
       "    <tr>\n",
       "      <th>max</th>\n",
       "      <td>87.000000</td>\n",
       "      <td>86.000000</td>\n",
       "    </tr>\n",
       "  </tbody>\n",
       "</table>\n",
       "</div>"
      ],
      "text/plain": [
       "          age_yes       age_no\n",
       "count  521.000000  4000.000000\n",
       "mean    42.491363    40.998000\n",
       "std     13.115772    10.188398\n",
       "min     19.000000    19.000000\n",
       "25%     32.000000    33.000000\n",
       "50%     40.000000    39.000000\n",
       "75%     50.000000    48.000000\n",
       "max     87.000000    86.000000"
      ]
     },
     "execution_count": 20,
     "metadata": {},
     "output_type": "execute_result"
    }
   ],
   "source": [
    "#age and deposit\n",
    "\n",
    "a_df = pd.DataFrame()\n",
    "a_df['age_yes'] = (df[df['deposit'] == 'yes'][['deposit','age']].describe())['age']\n",
    "a_df['age_no'] = (df[df['deposit'] == 'no'][['deposit','age']].describe())['age']\n",
    "\n",
    "a_df"
   ]
  },
  {
   "cell_type": "code",
   "execution_count": 21,
   "metadata": {
    "_uuid": "5debbbf91c62df70f679046abb1a6ad2e362a21a"
   },
   "outputs": [
    {
     "data": {
      "text/plain": [
       "<AxesSubplot:title={'center':'Age and deposit statistics'}>"
      ]
     },
     "execution_count": 21,
     "metadata": {},
     "output_type": "execute_result"
    },
    {
     "data": {
      "image/png": "[encoded data removed]",
      "text/plain": [
       "<Figure size 432x288 with 1 Axes>"
      ]
     },
     "metadata": {
      "needs_background": "light"
     },
     "output_type": "display_data"
    }
   ],
   "source": [
    "a_df.drop(['count', '25%', '50%', '75%']).plot.bar(title = 'Age and deposit statistics')"
   ]
  },
  {
   "cell_type": "code",
   "execution_count": 22,
   "metadata": {
    "_uuid": "df7570d6ef520da585b0294cb4056f4f53aa8675"
   },
   "outputs": [
    {
     "data": {
      "text/html": [
       "<div>\n",
       "<style scoped>\n",
       "    .dataframe tbody tr th:only-of-type {\n",
       "        vertical-align: middle;\n",
       "    }\n",
       "\n",
       "    .dataframe tbody tr th {\n",
       "        vertical-align: top;\n",
       "    }\n",
       "\n",
       "    .dataframe thead th {\n",
       "        text-align: right;\n",
       "    }\n",
       "</style>\n",
       "<table border=\"1\" class=\"dataframe\">\n",
       "  <thead>\n",
       "    <tr style=\"text-align: right;\">\n",
       "      <th></th>\n",
       "      <th>campaign_yes</th>\n",
       "      <th>campaign_no</th>\n",
       "    </tr>\n",
       "  </thead>\n",
       "  <tbody>\n",
       "    <tr>\n",
       "      <th>count</th>\n",
       "      <td>521.000000</td>\n",
       "      <td>4000.000000</td>\n",
       "    </tr>\n",
       "    <tr>\n",
       "      <th>mean</th>\n",
       "      <td>2.266795</td>\n",
       "      <td>2.862250</td>\n",
       "    </tr>\n",
       "    <tr>\n",
       "      <th>std</th>\n",
       "      <td>2.092071</td>\n",
       "      <td>3.212609</td>\n",
       "    </tr>\n",
       "    <tr>\n",
       "      <th>min</th>\n",
       "      <td>1.000000</td>\n",
       "      <td>1.000000</td>\n",
       "    </tr>\n",
       "    <tr>\n",
       "      <th>25%</th>\n",
       "      <td>1.000000</td>\n",
       "      <td>1.000000</td>\n",
       "    </tr>\n",
       "    <tr>\n",
       "      <th>50%</th>\n",
       "      <td>2.000000</td>\n",
       "      <td>2.000000</td>\n",
       "    </tr>\n",
       "    <tr>\n",
       "      <th>75%</th>\n",
       "      <td>3.000000</td>\n",
       "      <td>3.000000</td>\n",
       "    </tr>\n",
       "    <tr>\n",
       "      <th>max</th>\n",
       "      <td>24.000000</td>\n",
       "      <td>50.000000</td>\n",
       "    </tr>\n",
       "  </tbody>\n",
       "</table>\n",
       "</div>"
      ],
      "text/plain": [
       "       campaign_yes  campaign_no\n",
       "count    521.000000  4000.000000\n",
       "mean       2.266795     2.862250\n",
       "std        2.092071     3.212609\n",
       "min        1.000000     1.000000\n",
       "25%        1.000000     1.000000\n",
       "50%        2.000000     2.000000\n",
       "75%        3.000000     3.000000\n",
       "max       24.000000    50.000000"
      ]
     },
     "execution_count": 22,
     "metadata": {},
     "output_type": "execute_result"
    }
   ],
   "source": [
    "#number of contacts performed during this campaign ('campaign') and deposit\n",
    "c_df = pd.DataFrame()\n",
    "c_df['campaign_yes'] = (df[df['deposit'] == 'yes'][['deposit','campaign']].describe())['campaign']\n",
    "c_df['campaign_no'] = (df[df['deposit'] == 'no'][['deposit','campaign']].describe())['campaign']\n",
    "\n",
    "c_df"
   ]
  },
  {
   "cell_type": "code",
   "execution_count": 23,
   "metadata": {
    "_uuid": "b78ced3e2abae5fa673a9d5c2f94f234cbe3e8af"
   },
   "outputs": [
    {
     "data": {
      "text/plain": [
       "<AxesSubplot:title={'center':'Number of contacts performed during this campaign and deposit statistics'}>"
      ]
     },
     "execution_count": 23,
     "metadata": {},
     "output_type": "execute_result"
    },
    {
     "data": {
      "image/png": "[encoded data removed]",
      "text/plain": [
       "<Figure size 432x288 with 1 Axes>"
      ]
     },
     "metadata": {
      "needs_background": "light"
     },
     "output_type": "display_data"
    }
   ],
   "source": [
    "c_df.drop(['count', '25%', '50%', '75%']).plot.bar(title = 'Number of contacts performed during this campaign and deposit statistics')"
   ]
  },
  {
   "cell_type": "code",
   "execution_count": 24,
   "metadata": {
    "_uuid": "8319de98e398300a9464664dc204e060b03fbb71"
   },
   "outputs": [
    {
     "data": {
      "text/html": [
       "<div>\n",
       "<style scoped>\n",
       "    .dataframe tbody tr th:only-of-type {\n",
       "        vertical-align: middle;\n",
       "    }\n",
       "\n",
       "    .dataframe tbody tr th {\n",
       "        vertical-align: top;\n",
       "    }\n",
       "\n",
       "    .dataframe thead th {\n",
       "        text-align: right;\n",
       "    }\n",
       "</style>\n",
       "<table border=\"1\" class=\"dataframe\">\n",
       "  <thead>\n",
       "    <tr style=\"text-align: right;\">\n",
       "      <th></th>\n",
       "      <th>previous_yes</th>\n",
       "      <th>previous_no</th>\n",
       "    </tr>\n",
       "  </thead>\n",
       "  <tbody>\n",
       "    <tr>\n",
       "      <th>count</th>\n",
       "      <td>521.000000</td>\n",
       "      <td>4000.000000</td>\n",
       "    </tr>\n",
       "    <tr>\n",
       "      <th>mean</th>\n",
       "      <td>1.090211</td>\n",
       "      <td>0.471250</td>\n",
       "    </tr>\n",
       "    <tr>\n",
       "      <th>std</th>\n",
       "      <td>2.055368</td>\n",
       "      <td>1.627371</td>\n",
       "    </tr>\n",
       "    <tr>\n",
       "      <th>min</th>\n",
       "      <td>0.000000</td>\n",
       "      <td>0.000000</td>\n",
       "    </tr>\n",
       "    <tr>\n",
       "      <th>25%</th>\n",
       "      <td>0.000000</td>\n",
       "      <td>0.000000</td>\n",
       "    </tr>\n",
       "    <tr>\n",
       "      <th>50%</th>\n",
       "      <td>0.000000</td>\n",
       "      <td>0.000000</td>\n",
       "    </tr>\n",
       "    <tr>\n",
       "      <th>75%</th>\n",
       "      <td>2.000000</td>\n",
       "      <td>0.000000</td>\n",
       "    </tr>\n",
       "    <tr>\n",
       "      <th>max</th>\n",
       "      <td>14.000000</td>\n",
       "      <td>25.000000</td>\n",
       "    </tr>\n",
       "  </tbody>\n",
       "</table>\n",
       "</div>"
      ],
      "text/plain": [
       "       previous_yes  previous_no\n",
       "count    521.000000  4000.000000\n",
       "mean       1.090211     0.471250\n",
       "std        2.055368     1.627371\n",
       "min        0.000000     0.000000\n",
       "25%        0.000000     0.000000\n",
       "50%        0.000000     0.000000\n",
       "75%        2.000000     0.000000\n",
       "max       14.000000    25.000000"
      ]
     },
     "execution_count": 24,
     "metadata": {},
     "output_type": "execute_result"
    }
   ],
   "source": [
    "#number of contacts performed during previous campaign ('previous') and deposit\n",
    "p_df = pd.DataFrame()\n",
    "p_df['previous_yes'] = (df[df['deposit'] == 'yes'][['deposit','previous']].describe())['previous']\n",
    "p_df['previous_no'] = (df[df['deposit'] == 'no'][['deposit','previous']].describe())['previous']\n",
    "\n",
    "p_df"
   ]
  },
  {
   "cell_type": "code",
   "execution_count": 25,
   "metadata": {
    "_uuid": "b3575d7c7ab57d09be0b299648d2c6458858828d"
   },
   "outputs": [
    {
     "data": {
      "text/plain": [
       "<AxesSubplot:title={'center':'Number of contacts performed during previous campaign and deposit statistics'}>"
      ]
     },
     "execution_count": 25,
     "metadata": {},
     "output_type": "execute_result"
    },
    {
     "data": {
      "image/png": "[encoded data removed]",
      "text/plain": [
       "<Figure size 432x288 with 1 Axes>"
      ]
     },
     "metadata": {
      "needs_background": "light"
     },
     "output_type": "display_data"
    }
   ],
   "source": [
    "p_df.drop(['count', '25%', '50%', '75%']).plot.bar(title = 'Number of contacts performed during previous campaign and deposit statistics')"
   ]
  },
  {
   "cell_type": "markdown",
   "metadata": {
    "_uuid": "596c9e08761d5777b2b874c4d2d9b28b47232d54"
   },
   "source": [
    "Looking at the diagrams above we can conclude that:\n",
    "1. People who subscribed for term deposit tend to have greater balance and age values.\n",
    "2. People who subscribed for term deposit tend to have fewer number of contacts during this campaign."
   ]
  },
  {
   "cell_type": "markdown",
   "metadata": {
    "_uuid": "657dfa956c6703fb3c1b404ffbb01884a33994af"
   },
   "source": [
    "## Data Cleaning"
   ]
  },
  {
   "cell_type": "markdown",
   "metadata": {
    "_uuid": "da23d974653a9c7dfbd887ab2dc20e7e97eb01d0"
   },
   "source": [
    "Before we will be able to apply machine learning techniques, we should prepare the dataset for processing:\n",
    "1. Convert columns with 'yes' and 'no' values to boolean columns;\n",
    "2. Convert categorical columns into dummy variables."
   ]
  },
  {
   "cell_type": "code",
   "execution_count": 26,
   "metadata": {
    "_uuid": "c36ceee61029e8698e08b76fe2204b7e9c0284f5"
   },
   "outputs": [],
   "source": [
    "def get_dummy_from_bool(row, column_name):\n",
    "    ''' Returns 0 if value in column_name is no, returns 1 if value in column_name is yes'''\n",
    "    return 1 if row[column_name] == 'yes' else 0\n",
    "\n",
    "def get_correct_values(row, column_name, threshold, df):\n",
    "    ''' Returns mean value if value in column_name is above threshold'''\n",
    "    if row[column_name] <= threshold:\n",
    "        return row[column_name]\n",
    "    else:\n",
    "        mean = df[df[column_name] <= threshold][column_name].mean()\n",
    "        return mean\n",
    "\n",
    "def clean_data(df):\n",
    "    '''\n",
    "    INPUT\n",
    "    df - pandas dataframe containing bank marketing campaign dataset\n",
    "    \n",
    "    OUTPUT\n",
    "    df - cleaned dataset:\n",
    "    1. columns with 'yes' and 'no' values are converted into boolean variables;\n",
    "    2. categorical columns are converted into dummy variables;\n",
    "    3. drop irrelevant columns.\n",
    "    4. impute incorrect values\n",
    "    '''\n",
    "    \n",
    "    cleaned_df = df.copy()\n",
    "    \n",
    "    #convert columns containing 'yes' and 'no' values to boolean variables and drop original columns\n",
    "    bool_columns = ['default', 'housing', 'loan', 'deposit']\n",
    "    for bool_col in bool_columns:\n",
    "        cleaned_df[bool_col + '_bool'] = df.apply(lambda row: get_dummy_from_bool(row, bool_col),axis=1)\n",
    "    \n",
    "    cleaned_df = cleaned_df.drop(columns = bool_columns)\n",
    "    \n",
    "    #convert categorical columns to dummies\n",
    "    cat_columns = ['job', 'marital', 'education', 'contact', 'month', 'poutcome']\n",
    "    \n",
    "    for col in  cat_columns:\n",
    "        cleaned_df = pd.concat([cleaned_df.drop(col, axis=1),\n",
    "                                pd.get_dummies(cleaned_df[col], prefix=col, prefix_sep='_',\n",
    "                                               drop_first=True, dummy_na=False)], axis=1)\n",
    "    \n",
    "    #drop irrelevant columns\n",
    "    cleaned_df = cleaned_df.drop(columns = ['pdays'])\n",
    "    \n",
    "    #impute incorrect values and drop original columns\n",
    "    cleaned_df['campaign_cleaned'] = df.apply(lambda row: get_correct_values(row, 'campaign', 34, cleaned_df),axis=1)\n",
    "    cleaned_df['previous_cleaned'] = df.apply(lambda row: get_correct_values(row, 'previous', 34, cleaned_df),axis=1)\n",
    "    \n",
    "    cleaned_df = cleaned_df.drop(columns = ['campaign', 'previous'])\n",
    "    \n",
    "    return cleaned_df"
   ]
  },
  {
   "cell_type": "code",
   "execution_count": 27,
   "metadata": {
    "_uuid": "c84260944095766b196e084185bb07c451162524"
   },
   "outputs": [
    {
     "data": {
      "text/html": [
       "<div>\n",
       "<style scoped>\n",
       "    .dataframe tbody tr th:only-of-type {\n",
       "        vertical-align: middle;\n",
       "    }\n",
       "\n",
       "    .dataframe tbody tr th {\n",
       "        vertical-align: top;\n",
       "    }\n",
       "\n",
       "    .dataframe thead th {\n",
       "        text-align: right;\n",
       "    }\n",
       "</style>\n",
       "<table border=\"1\" class=\"dataframe\">\n",
       "  <thead>\n",
       "    <tr style=\"text-align: right;\">\n",
       "      <th></th>\n",
       "      <th>age</th>\n",
       "      <th>balance</th>\n",
       "      <th>day</th>\n",
       "      <th>duration</th>\n",
       "      <th>default_bool</th>\n",
       "      <th>housing_bool</th>\n",
       "      <th>loan_bool</th>\n",
       "      <th>deposit_bool</th>\n",
       "      <th>job_blue-collar</th>\n",
       "      <th>job_entrepreneur</th>\n",
       "      <th>...</th>\n",
       "      <th>month_mar</th>\n",
       "      <th>month_may</th>\n",
       "      <th>month_nov</th>\n",
       "      <th>month_oct</th>\n",
       "      <th>month_sep</th>\n",
       "      <th>poutcome_other</th>\n",
       "      <th>poutcome_success</th>\n",
       "      <th>poutcome_unknown</th>\n",
       "      <th>campaign_cleaned</th>\n",
       "      <th>previous_cleaned</th>\n",
       "    </tr>\n",
       "  </thead>\n",
       "  <tbody>\n",
       "    <tr>\n",
       "      <th>0</th>\n",
       "      <td>30</td>\n",
       "      <td>1787</td>\n",
       "      <td>19</td>\n",
       "      <td>79</td>\n",
       "      <td>0</td>\n",
       "      <td>0</td>\n",
       "      <td>0</td>\n",
       "      <td>0</td>\n",
       "      <td>0</td>\n",
       "      <td>0</td>\n",
       "      <td>...</td>\n",
       "      <td>0</td>\n",
       "      <td>0</td>\n",
       "      <td>0</td>\n",
       "      <td>1</td>\n",
       "      <td>0</td>\n",
       "      <td>0</td>\n",
       "      <td>0</td>\n",
       "      <td>1</td>\n",
       "      <td>1.0</td>\n",
       "      <td>0</td>\n",
       "    </tr>\n",
       "    <tr>\n",
       "      <th>1</th>\n",
       "      <td>33</td>\n",
       "      <td>4789</td>\n",
       "      <td>11</td>\n",
       "      <td>220</td>\n",
       "      <td>0</td>\n",
       "      <td>1</td>\n",
       "      <td>1</td>\n",
       "      <td>0</td>\n",
       "      <td>0</td>\n",
       "      <td>0</td>\n",
       "      <td>...</td>\n",
       "      <td>0</td>\n",
       "      <td>1</td>\n",
       "      <td>0</td>\n",
       "      <td>0</td>\n",
       "      <td>0</td>\n",
       "      <td>0</td>\n",
       "      <td>0</td>\n",
       "      <td>0</td>\n",
       "      <td>1.0</td>\n",
       "      <td>4</td>\n",
       "    </tr>\n",
       "    <tr>\n",
       "      <th>2</th>\n",
       "      <td>35</td>\n",
       "      <td>1350</td>\n",
       "      <td>16</td>\n",
       "      <td>185</td>\n",
       "      <td>0</td>\n",
       "      <td>1</td>\n",
       "      <td>0</td>\n",
       "      <td>0</td>\n",
       "      <td>0</td>\n",
       "      <td>0</td>\n",
       "      <td>...</td>\n",
       "      <td>0</td>\n",
       "      <td>0</td>\n",
       "      <td>0</td>\n",
       "      <td>0</td>\n",
       "      <td>0</td>\n",
       "      <td>0</td>\n",
       "      <td>0</td>\n",
       "      <td>0</td>\n",
       "      <td>1.0</td>\n",
       "      <td>1</td>\n",
       "    </tr>\n",
       "    <tr>\n",
       "      <th>3</th>\n",
       "      <td>30</td>\n",
       "      <td>1476</td>\n",
       "      <td>3</td>\n",
       "      <td>199</td>\n",
       "      <td>0</td>\n",
       "      <td>1</td>\n",
       "      <td>1</td>\n",
       "      <td>0</td>\n",
       "      <td>0</td>\n",
       "      <td>0</td>\n",
       "      <td>...</td>\n",
       "      <td>0</td>\n",
       "      <td>0</td>\n",
       "      <td>0</td>\n",
       "      <td>0</td>\n",
       "      <td>0</td>\n",
       "      <td>0</td>\n",
       "      <td>0</td>\n",
       "      <td>1</td>\n",
       "      <td>4.0</td>\n",
       "      <td>0</td>\n",
       "    </tr>\n",
       "    <tr>\n",
       "      <th>4</th>\n",
       "      <td>59</td>\n",
       "      <td>0</td>\n",
       "      <td>5</td>\n",
       "      <td>226</td>\n",
       "      <td>0</td>\n",
       "      <td>1</td>\n",
       "      <td>0</td>\n",
       "      <td>0</td>\n",
       "      <td>1</td>\n",
       "      <td>0</td>\n",
       "      <td>...</td>\n",
       "      <td>0</td>\n",
       "      <td>1</td>\n",
       "      <td>0</td>\n",
       "      <td>0</td>\n",
       "      <td>0</td>\n",
       "      <td>0</td>\n",
       "      <td>0</td>\n",
       "      <td>1</td>\n",
       "      <td>1.0</td>\n",
       "      <td>0</td>\n",
       "    </tr>\n",
       "  </tbody>\n",
       "</table>\n",
       "<p>5 rows × 42 columns</p>\n",
       "</div>"
      ],
      "text/plain": [
       "   age  balance  day  duration  default_bool  housing_bool  loan_bool  \\\n",
       "0   30     1787   19        79             0             0          0   \n",
       "1   33     4789   11       220             0             1          1   \n",
       "2   35     1350   16       185             0             1          0   \n",
       "3   30     1476    3       199             0             1          1   \n",
       "4   59        0    5       226             0             1          0   \n",
       "\n",
       "   deposit_bool  job_blue-collar  job_entrepreneur  ...  month_mar  month_may  \\\n",
       "0             0                0                 0  ...          0          0   \n",
       "1             0                0                 0  ...          0          1   \n",
       "2             0                0                 0  ...          0          0   \n",
       "3             0                0                 0  ...          0          0   \n",
       "4             0                1                 0  ...          0          1   \n",
       "\n",
       "   month_nov  month_oct  month_sep  poutcome_other  poutcome_success  \\\n",
       "0          0          1          0               0                 0   \n",
       "1          0          0          0               0                 0   \n",
       "2          0          0          0               0                 0   \n",
       "3          0          0          0               0                 0   \n",
       "4          0          0          0               0                 0   \n",
       "\n",
       "   poutcome_unknown  campaign_cleaned  previous_cleaned  \n",
       "0                 1               1.0                 0  \n",
       "1                 0               1.0                 4  \n",
       "2                 0               1.0                 1  \n",
       "3                 1               4.0                 0  \n",
       "4                 1               1.0                 0  \n",
       "\n",
       "[5 rows x 42 columns]"
      ]
     },
     "execution_count": 27,
     "metadata": {},
     "output_type": "execute_result"
    }
   ],
   "source": [
    "#clean the dataset\n",
    "cleaned_df = clean_data(df)\n",
    "cleaned_df.head()"
   ]
  },
  {
   "cell_type": "markdown",
   "metadata": {
    "_uuid": "0a4fc6fd14ff5a65e5eefe9a5bea4b11197ab6fd"
   },
   "source": [
    "## Machine Learning for prediction of campaign outcome"
   ]
  },
  {
   "cell_type": "markdown",
   "metadata": {
    "_uuid": "8a617cd9aa39122d61abd8df841090ea3ca16879"
   },
   "source": [
    "### Classification model for the campaign outcome prediction"
   ]
  },
  {
   "cell_type": "markdown",
   "metadata": {
    "_uuid": "66170b27e3a272832669d83613ea334f2c5569d5"
   },
   "source": [
    "Now let's use cleaned datasets for prediction of campaign outcome with help of machine learning classification models. I will use __[XGBoost](https://xgboost.readthedocs.io/en/latest/)__, which is one of the most common machine learning libraries for modelling.\n",
    "<br> Resulting model will also help me to understand, which features have the greatest importance for the prediction of the results of the campaing."
   ]
  },
  {
   "cell_type": "markdown",
   "metadata": {
    "_uuid": "ab39af0090df8afdf4ec9128a2088fcef8d4d104"
   },
   "source": [
    "Create X and y datasets for training the model and split into train and test datasets."
   ]
  },
  {
   "cell_type": "code",
   "execution_count": 28,
   "metadata": {
    "_uuid": "e94b914d643f707996906176ba0b7d71f1e00c8e"
   },
   "outputs": [],
   "source": [
    "X = cleaned_df.drop(columns = 'deposit_bool')\n",
    "y = cleaned_df[['deposit_bool']]"
   ]
  },
  {
   "cell_type": "code",
   "execution_count": 29,
   "metadata": {
    "_uuid": "69fa180ae0a9fa806c9584737d810ac126d39770"
   },
   "outputs": [],
   "source": [
    "TEST_SIZE = 0.3\n",
    "RAND_STATE = 42"
   ]
  },
  {
   "cell_type": "code",
   "execution_count": 30,
   "metadata": {
    "_uuid": "881629ad927241dcf1251f5195a1a7ebdadbc8bc"
   },
   "outputs": [],
   "source": [
    "from sklearn.model_selection import train_test_split\n",
    "X_train, X_test, y_train, y_test = train_test_split(X, y, test_size = TEST_SIZE, random_state=RAND_STATE)"
   ]
  },
  {
   "cell_type": "code",
   "execution_count": 34,
   "metadata": {},
   "outputs": [
    {
     "name": "stdout",
     "output_type": "stream",
     "text": [
      "Collecting xgboostNote: you may need to restart the kernel to use updated packages.\n"
     ]
    },
    {
     "name": "stderr",
     "output_type": "stream",
     "text": [
      "    ERROR: Command errored out with exit status 1:\n",
      "     command: 'c:\\users\\sam\\appdata\\local\\programs\\python\\python38-32\\python.exe' -u -c 'import sys, setuptools, tokenize; sys.argv[0] = '\"'\"'C:\\\\Users\\\\sam\\\\AppData\\\\Local\\\\Temp\\\\pip-install-3bg0jelc\\\\xgboost_2de3a0737dba4ac6bff7b8455c4a9986\\\\setup.py'\"'\"'; __file__='\"'\"'C:\\\\Users\\\\sam\\\\AppData\\\\Local\\\\Temp\\\\pip-install-3bg0jelc\\\\xgboost_2de3a0737dba4ac6bff7b8455c4a9986\\\\setup.py'\"'\"';f=getattr(tokenize, '\"'\"'open'\"'\"', open)(__file__);code=f.read().replace('\"'\"'\\r\\n'\"'\"', '\"'\"'\\n'\"'\"');f.close();exec(compile(code, __file__, '\"'\"'exec'\"'\"'))' install --record 'C:\\Users\\sam\\AppData\\Local\\Temp\\pip-record-s_qwirdp\\install-record.txt' --single-version-externally-managed --compile --install-headers 'c:\\users\\sam\\appdata\\local\\programs\\python\\python38-32\\Include\\xgboost'\n",
      "         cwd: C:\\Users\\sam\\AppData\\Local\\Temp\\pip-install-3bg0jelc\\xgboost_2de3a0737dba4ac6bff7b8455c4a9986\\\n",
      "    Complete output (775 lines):\n",
      "    running install\n",
      "    running build\n",
      "    running build_py\n",
      "    creating build\n",
      "    creating build\\lib.win32-3.8\n",
      "    creating build\\lib.win32-3.8\\xgboost\n",
      "    copying xgboost\\callback.py -> build\\lib.win32-3.8\\xgboost\n",
      "    copying xgboost\\compat.py -> build\\lib.win32-3.8\\xgboost\n",
      "    copying xgboost\\config.py -> build\\lib.win32-3.8\\xgboost\n",
      "    copying xgboost\\core.py -> build\\lib.win32-3.8\\xgboost\n",
      "    copying xgboost\\dask.py -> build\\lib.win32-3.8\\xgboost\n",
      "    copying xgboost\\data.py -> build\\lib.win32-3.8\\xgboost\n",
      "    copying xgboost\\libpath.py -> build\\lib.win32-3.8\\xgboost\n",
      "    copying xgboost\\plotting.py -> build\\lib.win32-3.8\\xgboost\n",
      "    copying xgboost\\rabit.py -> build\\lib.win32-3.8\\xgboost\n",
      "    copying xgboost\\sklearn.py -> build\\lib.win32-3.8\\xgboost\n",
      "    copying xgboost\\tracker.py -> build\\lib.win32-3.8\\xgboost\n",
      "    copying xgboost\\training.py -> build\\lib.win32-3.8\\xgboost\n",
      "    copying xgboost\\__init__.py -> build\\lib.win32-3.8\\xgboost\n",
      "    running egg_info\n",
      "    writing xgboost.egg-info\\PKG-INFO\n",
      "    writing dependency_links to xgboost.egg-info\\dependency_links.txt\n",
      "    writing requirements to xgboost.egg-info\\requires.txt\n",
      "    writing top-level names to xgboost.egg-info\\top_level.txt\n",
      "    reading manifest file 'xgboost.egg-info\\SOURCES.txt'\n",
      "    reading manifest template 'MANIFEST.in'\n",
      "    warning: no previously-included files found matching 'xgboost\\cmake\\RPackageInstall.cmake.in'\n",
      "    warning: no previously-included files found matching 'xgboost\\cmake\\RPackageInstallTargetSetup.cmake'\n",
      "    warning: no previously-included files found matching 'xgboost\\cmake\\Sanitizer.cmake'\n",
      "    warning: no previously-included files found matching 'xgboost\\cmake\\modules\\FindASan.cmake'\n",
      "    warning: no previously-included files found matching 'xgboost\\cmake\\modules\\FindLSan.cmake'\n",
      "    warning: no previously-included files found matching 'xgboost\\cmake\\modules\\FindLibR.cmake'\n",
      "    warning: no previously-included files found matching 'xgboost\\cmake\\modules\\FindTSan.cmake'\n",
      "    warning: no previously-included files found matching 'xgboost\\cmake\\modules\\FindUBSan.cmake'\n",
      "    no previously-included directories found matching 'xgboost\\rabit\\doc'\n",
      "    no previously-included directories found matching 'xgboost\\rabit\\guide'\n",
      "    warning: no previously-included files found matching 'xgboost\\dmlc-core\\cmake\\gtest_cmake.in'\n",
      "    warning: no previously-included files found matching 'xgboost\\dmlc-core\\cmake\\lint.cmake'\n",
      "    warning: no previously-included files found matching 'xgboost\\dmlc-core\\cmake\\Sanitizer.cmake'\n",
      "    warning: no previously-included files found matching 'xgboost\\dmlc-core\\cmake\\Modules\\FindASan.cmake'\n",
      "    warning: no previously-included files found matching 'xgboost\\dmlc-core\\cmake\\Modules\\FindLSan.cmake'\n",
      "    warning: no previously-included files found matching 'xgboost\\dmlc-core\\cmake\\Modules\\FindTSan.cmake'\n",
      "    warning: no previously-included files found matching 'xgboost\\dmlc-core\\cmake\\Modules\\FindUBSan.cmake'\n",
      "    no previously-included directories found matching 'xgboost\\dmlc-core\\doc'\n",
      "    warning: manifest_maker: MANIFEST.in, line 52: path 'xgboost/dmlc-core/scripts/' cannot end with '/'\n",
      "    \n",
      "    warning: no previously-included files matching '*.py[oc]' found anywhere in distribution\n",
      "    writing manifest file 'xgboost.egg-info\\SOURCES.txt'\n",
      "    copying xgboost\\CMakeLists.txt -> build\\lib.win32-3.8\\xgboost\n",
      "    copying xgboost\\LICENSE -> build\\lib.win32-3.8\\xgboost\n",
      "    copying xgboost\\VERSION -> build\\lib.win32-3.8\\xgboost\n",
      "    copying xgboost\\py.typed -> build\\lib.win32-3.8\\xgboost\n",
      "    creating build\\lib.win32-3.8\\xgboost\\cmake\n",
      "    copying xgboost\\cmake\\Doc.cmake -> build\\lib.win32-3.8\\xgboost\\cmake\n",
      "    copying xgboost\\cmake\\FindPrefetchIntrinsics.cmake -> build\\lib.win32-3.8\\xgboost\\cmake\n",
      "    copying xgboost\\cmake\\Python_version.in -> build\\lib.win32-3.8\\xgboost\\cmake\n",
      "    copying xgboost\\cmake\\Utils.cmake -> build\\lib.win32-3.8\\xgboost\\cmake\n",
      "    copying xgboost\\cmake\\Version.cmake -> build\\lib.win32-3.8\\xgboost\\cmake\n",
      "    copying xgboost\\cmake\\version_config.h.in -> build\\lib.win32-3.8\\xgboost\\cmake\n",
      "    copying xgboost\\cmake\\xgboost-config.cmake.in -> build\\lib.win32-3.8\\xgboost\\cmake\n",
      "    copying xgboost\\cmake\\xgboost.pc.in -> build\\lib.win32-3.8\\xgboost\\cmake\n",
      "    creating build\\lib.win32-3.8\\xgboost\\cmake\\modules\n",
      "    copying xgboost\\cmake\\modules\\FindNVML.cmake -> build\\lib.win32-3.8\\xgboost\\cmake\\modules\n",
      "    copying xgboost\\cmake\\modules\\FindNVTX.cmake -> build\\lib.win32-3.8\\xgboost\\cmake\\modules\n",
      "    copying xgboost\\cmake\\modules\\FindNccl.cmake -> build\\lib.win32-3.8\\xgboost\\cmake\\modules\n",
      "    creating build\\lib.win32-3.8\\xgboost\\dmlc-core\n",
      "    copying xgboost\\dmlc-core\\CMakeLists.txt -> build\\lib.win32-3.8\\xgboost\\dmlc-core\n",
      "    creating build\\lib.win32-3.8\\xgboost\\dmlc-core\\cmake\n",
      "    copying xgboost\\dmlc-core\\cmake\\Utils.cmake -> build\\lib.win32-3.8\\xgboost\\dmlc-core\\cmake\n",
      "    copying xgboost\\dmlc-core\\cmake\\build_config.h.in -> build\\lib.win32-3.8\\xgboost\\dmlc-core\\cmake\n",
      "    copying xgboost\\dmlc-core\\cmake\\dmlc-config.cmake.in -> build\\lib.win32-3.8\\xgboost\\dmlc-core\\cmake\n",
      "    creating build\\lib.win32-3.8\\xgboost\\dmlc-core\\cmake\\Modules\n",
      "    copying xgboost\\dmlc-core\\cmake\\Modules\\FindHDFS.cmake -> build\\lib.win32-3.8\\xgboost\\dmlc-core\\cmake\\Modules\n",
      "    creating build\\lib.win32-3.8\\xgboost\\dmlc-core\\include\n",
      "    creating build\\lib.win32-3.8\\xgboost\\dmlc-core\\include\\dmlc\n",
      "    copying xgboost\\dmlc-core\\include\\dmlc\\any.h -> build\\lib.win32-3.8\\xgboost\\dmlc-core\\include\\dmlc\n",
      "    copying xgboost\\dmlc-core\\include\\dmlc\\array_view.h -> build\\lib.win32-3.8\\xgboost\\dmlc-core\\include\\dmlc\n",
      "    copying xgboost\\dmlc-core\\include\\dmlc\\base.h -> build\\lib.win32-3.8\\xgboost\\dmlc-core\\include\\dmlc\n",
      "    copying xgboost\\dmlc-core\\include\\dmlc\\blockingconcurrentqueue.h -> build\\lib.win32-3.8\\xgboost\\dmlc-core\\include\\dmlc\n",
      "    copying xgboost\\dmlc-core\\include\\dmlc\\build_config_default.h -> build\\lib.win32-3.8\\xgboost\\dmlc-core\\include\\dmlc\n",
      "    copying xgboost\\dmlc-core\\include\\dmlc\\common.h -> build\\lib.win32-3.8\\xgboost\\dmlc-core\\include\\dmlc\n",
      "    copying xgboost\\dmlc-core\\include\\dmlc\\concurrency.h -> build\\lib.win32-3.8\\xgboost\\dmlc-core\\include\\dmlc\n",
      "    copying xgboost\\dmlc-core\\include\\dmlc\\concurrentqueue.h -> build\\lib.win32-3.8\\xgboost\\dmlc-core\\include\\dmlc\n",
      "    copying xgboost\\dmlc-core\\include\\dmlc\\config.h -> build\\lib.win32-3.8\\xgboost\\dmlc-core\\include\\dmlc\n",
      "    copying xgboost\\dmlc-core\\include\\dmlc\\data.h -> build\\lib.win32-3.8\\xgboost\\dmlc-core\\include\\dmlc\n",
      "    copying xgboost\\dmlc-core\\include\\dmlc\\endian.h -> build\\lib.win32-3.8\\xgboost\\dmlc-core\\include\\dmlc\n",
      "    copying xgboost\\dmlc-core\\include\\dmlc\\filesystem.h -> build\\lib.win32-3.8\\xgboost\\dmlc-core\\include\\dmlc\n",
      "    copying xgboost\\dmlc-core\\include\\dmlc\\input_split_shuffle.h -> build\\lib.win32-3.8\\xgboost\\dmlc-core\\include\\dmlc\n",
      "    copying xgboost\\dmlc-core\\include\\dmlc\\io.h -> build\\lib.win32-3.8\\xgboost\\dmlc-core\\include\\dmlc\n",
      "    copying xgboost\\dmlc-core\\include\\dmlc\\json.h -> build\\lib.win32-3.8\\xgboost\\dmlc-core\\include\\dmlc\n",
      "    copying xgboost\\dmlc-core\\include\\dmlc\\logging.h -> build\\lib.win32-3.8\\xgboost\\dmlc-core\\include\\dmlc\n",
      "    copying xgboost\\dmlc-core\\include\\dmlc\\lua.h -> build\\lib.win32-3.8\\xgboost\\dmlc-core\\include\\dmlc\n",
      "    copying xgboost\\dmlc-core\\include\\dmlc\\memory.h -> build\\lib.win32-3.8\\xgboost\\dmlc-core\\include\\dmlc\n",
      "    copying xgboost\\dmlc-core\\include\\dmlc\\memory_io.h -> build\\lib.win32-3.8\\xgboost\\dmlc-core\\include\\dmlc\n",
      "    copying xgboost\\dmlc-core\\include\\dmlc\\omp.h -> build\\lib.win32-3.8\\xgboost\\dmlc-core\\include\\dmlc\n",
      "    copying xgboost\\dmlc-core\\include\\dmlc\\optional.h -> build\\lib.win32-3.8\\xgboost\\dmlc-core\\include\\dmlc\n",
      "    copying xgboost\\dmlc-core\\include\\dmlc\\parameter.h -> build\\lib.win32-3.8\\xgboost\\dmlc-core\\include\\dmlc\n",
      "    copying xgboost\\dmlc-core\\include\\dmlc\\recordio.h -> build\\lib.win32-3.8\\xgboost\\dmlc-core\\include\\dmlc\n",
      "    copying xgboost\\dmlc-core\\include\\dmlc\\registry.h -> build\\lib.win32-3.8\\xgboost\\dmlc-core\\include\\dmlc\n",
      "    copying xgboost\\dmlc-core\\include\\dmlc\\serializer.h -> build\\lib.win32-3.8\\xgboost\\dmlc-core\\include\\dmlc\n",
      "    copying xgboost\\dmlc-core\\include\\dmlc\\strtonum.h -> build\\lib.win32-3.8\\xgboost\\dmlc-core\\include\\dmlc\n",
      "    copying xgboost\\dmlc-core\\include\\dmlc\\thread_group.h -> build\\lib.win32-3.8\\xgboost\\dmlc-core\\include\\dmlc\n",
      "    copying xgboost\\dmlc-core\\include\\dmlc\\thread_local.h -> build\\lib.win32-3.8\\xgboost\\dmlc-core\\include\\dmlc\n",
      "    copying xgboost\\dmlc-core\\include\\dmlc\\threadediter.h -> build\\lib.win32-3.8\\xgboost\\dmlc-core\\include\\dmlc\n"
     ]
    },
    {
     "name": "stdout",
     "output_type": "stream",
     "text": [
      "\n",
      "  Using cached xgboost-1.4.0.tar.gz (702 kB)\n",
      "Requirement already satisfied: numpy in c:\\users\\sam\\appdata\\local\\programs\\python\\python38-32\\lib\\site-packages (from xgboost) (1.19.5)\n",
      "Requirement already satisfied: scipy in c:\\users\\sam\\appdata\\local\\programs\\python\\python38-32\\lib\\site-packages (from xgboost) (1.6.0)\n",
      "Using legacy 'setup.py install' for xgboost, since package 'wheel' is not installed.\n",
      "Installing collected packages: xgboost\n",
      "    Running setup.py install for xgboost: started\n",
      "    Running setup.py install for xgboost: finished with status 'error'\n"
     ]
    },
    {
     "name": "stderr",
     "output_type": "stream",
     "text": [
      "    copying xgboost\\dmlc-core\\include\\dmlc\\timer.h -> build\\lib.win32-3.8\\xgboost\\dmlc-core\\include\\dmlc\n",
      "    copying xgboost\\dmlc-core\\include\\dmlc\\type_traits.h -> build\\lib.win32-3.8\\xgboost\\dmlc-core\\include\\dmlc\n",
      "    creating build\\lib.win32-3.8\\xgboost\\dmlc-core\\make\n",
      "    copying xgboost\\dmlc-core\\make\\config.mk -> build\\lib.win32-3.8\\xgboost\\dmlc-core\\make\n",
      "    copying xgboost\\dmlc-core\\make\\dmlc.mk -> build\\lib.win32-3.8\\xgboost\\dmlc-core\\make\n",
      "    creating build\\lib.win32-3.8\\xgboost\\dmlc-core\\src\n",
      "    copying xgboost\\dmlc-core\\src\\config.cc -> build\\lib.win32-3.8\\xgboost\\dmlc-core\\src\n",
      "    copying xgboost\\dmlc-core\\src\\data.cc -> build\\lib.win32-3.8\\xgboost\\dmlc-core\\src\n",
      "    copying xgboost\\dmlc-core\\src\\io.cc -> build\\lib.win32-3.8\\xgboost\\dmlc-core\\src\n",
      "    copying xgboost\\dmlc-core\\src\\recordio.cc -> build\\lib.win32-3.8\\xgboost\\dmlc-core\\src\n",
      "    creating build\\lib.win32-3.8\\xgboost\\dmlc-core\\src\\data\n",
      "    copying xgboost\\dmlc-core\\src\\data\\basic_row_iter.h -> build\\lib.win32-3.8\\xgboost\\dmlc-core\\src\\data\n",
      "    copying xgboost\\dmlc-core\\src\\data\\csv_parser.h -> build\\lib.win32-3.8\\xgboost\\dmlc-core\\src\\data\n",
      "    copying xgboost\\dmlc-core\\src\\data\\disk_row_iter.h -> build\\lib.win32-3.8\\xgboost\\dmlc-core\\src\\data\n",
      "    copying xgboost\\dmlc-core\\src\\data\\libfm_parser.h -> build\\lib.win32-3.8\\xgboost\\dmlc-core\\src\\data\n",
      "    copying xgboost\\dmlc-core\\src\\data\\libsvm_parser.h -> build\\lib.win32-3.8\\xgboost\\dmlc-core\\src\\data\n",
      "    copying xgboost\\dmlc-core\\src\\data\\parser.h -> build\\lib.win32-3.8\\xgboost\\dmlc-core\\src\\data\n",
      "    copying xgboost\\dmlc-core\\src\\data\\row_block.h -> build\\lib.win32-3.8\\xgboost\\dmlc-core\\src\\data\n",
      "    copying xgboost\\dmlc-core\\src\\data\\text_parser.h -> build\\lib.win32-3.8\\xgboost\\dmlc-core\\src\\data\n",
      "    creating build\\lib.win32-3.8\\xgboost\\dmlc-core\\src\\io\n",
      "    copying xgboost\\dmlc-core\\src\\io\\azure_filesys.cc -> build\\lib.win32-3.8\\xgboost\\dmlc-core\\src\\io\n",
      "    copying xgboost\\dmlc-core\\src\\io\\azure_filesys.h -> build\\lib.win32-3.8\\xgboost\\dmlc-core\\src\\io\n",
      "    copying xgboost\\dmlc-core\\src\\io\\cached_input_split.h -> build\\lib.win32-3.8\\xgboost\\dmlc-core\\src\\io\n",
      "    copying xgboost\\dmlc-core\\src\\io\\filesys.cc -> build\\lib.win32-3.8\\xgboost\\dmlc-core\\src\\io\n",
      "    copying xgboost\\dmlc-core\\src\\io\\hdfs_filesys.cc -> build\\lib.win32-3.8\\xgboost\\dmlc-core\\src\\io\n",
      "    copying xgboost\\dmlc-core\\src\\io\\hdfs_filesys.h -> build\\lib.win32-3.8\\xgboost\\dmlc-core\\src\\io\n",
      "    copying xgboost\\dmlc-core\\src\\io\\indexed_recordio_split.cc -> build\\lib.win32-3.8\\xgboost\\dmlc-core\\src\\io\n",
      "    copying xgboost\\dmlc-core\\src\\io\\indexed_recordio_split.h -> build\\lib.win32-3.8\\xgboost\\dmlc-core\\src\\io\n",
      "    copying xgboost\\dmlc-core\\src\\io\\input_split_base.cc -> build\\lib.win32-3.8\\xgboost\\dmlc-core\\src\\io\n",
      "    copying xgboost\\dmlc-core\\src\\io\\input_split_base.h -> build\\lib.win32-3.8\\xgboost\\dmlc-core\\src\\io\n",
      "    copying xgboost\\dmlc-core\\src\\io\\line_split.cc -> build\\lib.win32-3.8\\xgboost\\dmlc-core\\src\\io\n",
      "    copying xgboost\\dmlc-core\\src\\io\\line_split.h -> build\\lib.win32-3.8\\xgboost\\dmlc-core\\src\\io\n",
      "    copying xgboost\\dmlc-core\\src\\io\\local_filesys.cc -> build\\lib.win32-3.8\\xgboost\\dmlc-core\\src\\io\n",
      "    copying xgboost\\dmlc-core\\src\\io\\local_filesys.h -> build\\lib.win32-3.8\\xgboost\\dmlc-core\\src\\io\n",
      "    copying xgboost\\dmlc-core\\src\\io\\recordio_split.cc -> build\\lib.win32-3.8\\xgboost\\dmlc-core\\src\\io\n",
      "    copying xgboost\\dmlc-core\\src\\io\\recordio_split.h -> build\\lib.win32-3.8\\xgboost\\dmlc-core\\src\\io\n",
      "    copying xgboost\\dmlc-core\\src\\io\\s3_filesys.cc -> build\\lib.win32-3.8\\xgboost\\dmlc-core\\src\\io\n",
      "    copying xgboost\\dmlc-core\\src\\io\\s3_filesys.h -> build\\lib.win32-3.8\\xgboost\\dmlc-core\\src\\io\n",
      "    copying xgboost\\dmlc-core\\src\\io\\single_file_split.h -> build\\lib.win32-3.8\\xgboost\\dmlc-core\\src\\io\n",
      "    copying xgboost\\dmlc-core\\src\\io\\single_threaded_input_split.h -> build\\lib.win32-3.8\\xgboost\\dmlc-core\\src\\io\n",
      "    copying xgboost\\dmlc-core\\src\\io\\threaded_input_split.h -> build\\lib.win32-3.8\\xgboost\\dmlc-core\\src\\io\n",
      "    copying xgboost\\dmlc-core\\src\\io\\uri_spec.h -> build\\lib.win32-3.8\\xgboost\\dmlc-core\\src\\io\n",
      "    creating build\\lib.win32-3.8\\xgboost\\dmlc-core\\tracker\n",
      "    copying xgboost\\dmlc-core\\tracker\\dmlc-submit -> build\\lib.win32-3.8\\xgboost\\dmlc-core\\tracker\n",
      "    creating build\\lib.win32-3.8\\xgboost\\dmlc-core\\tracker\\dmlc_tracker\n",
      "    copying xgboost\\dmlc-core\\tracker\\dmlc_tracker\\__init__.py -> build\\lib.win32-3.8\\xgboost\\dmlc-core\\tracker\\dmlc_tracker\n",
      "    copying xgboost\\dmlc-core\\tracker\\dmlc_tracker\\kubernetes.py -> build\\lib.win32-3.8\\xgboost\\dmlc-core\\tracker\\dmlc_tracker\n",
      "    copying xgboost\\dmlc-core\\tracker\\dmlc_tracker\\launcher.py -> build\\lib.win32-3.8\\xgboost\\dmlc-core\\tracker\\dmlc_tracker\n",
      "    copying xgboost\\dmlc-core\\tracker\\dmlc_tracker\\local.py -> build\\lib.win32-3.8\\xgboost\\dmlc-core\\tracker\\dmlc_tracker\n",
      "    copying xgboost\\dmlc-core\\tracker\\dmlc_tracker\\mesos.py -> build\\lib.win32-3.8\\xgboost\\dmlc-core\\tracker\\dmlc_tracker\n",
      "    copying xgboost\\dmlc-core\\tracker\\dmlc_tracker\\mpi.py -> build\\lib.win32-3.8\\xgboost\\dmlc-core\\tracker\\dmlc_tracker\n",
      "    copying xgboost\\dmlc-core\\tracker\\dmlc_tracker\\opts.py -> build\\lib.win32-3.8\\xgboost\\dmlc-core\\tracker\\dmlc_tracker\n",
      "    copying xgboost\\dmlc-core\\tracker\\dmlc_tracker\\sge.py -> build\\lib.win32-3.8\\xgboost\\dmlc-core\\tracker\\dmlc_tracker\n",
      "    copying xgboost\\dmlc-core\\tracker\\dmlc_tracker\\slurm.py -> build\\lib.win32-3.8\\xgboost\\dmlc-core\\tracker\\dmlc_tracker\n",
      "    copying xgboost\\dmlc-core\\tracker\\dmlc_tracker\\ssh.py -> build\\lib.win32-3.8\\xgboost\\dmlc-core\\tracker\\dmlc_tracker\n",
      "    copying xgboost\\dmlc-core\\tracker\\dmlc_tracker\\submit.py -> build\\lib.win32-3.8\\xgboost\\dmlc-core\\tracker\\dmlc_tracker\n",
      "    copying xgboost\\dmlc-core\\tracker\\dmlc_tracker\\tracker.py -> build\\lib.win32-3.8\\xgboost\\dmlc-core\\tracker\\dmlc_tracker\n",
      "    copying xgboost\\dmlc-core\\tracker\\dmlc_tracker\\util.py -> build\\lib.win32-3.8\\xgboost\\dmlc-core\\tracker\\dmlc_tracker\n",
      "    copying xgboost\\dmlc-core\\tracker\\dmlc_tracker\\yarn.py -> build\\lib.win32-3.8\\xgboost\\dmlc-core\\tracker\\dmlc_tracker\n",
      "    creating build\\lib.win32-3.8\\xgboost\\dmlc-core\\tracker\\yarn\n",
      "    copying xgboost\\dmlc-core\\tracker\\yarn\\build.bat -> build\\lib.win32-3.8\\xgboost\\dmlc-core\\tracker\\yarn\n",
      "    copying xgboost\\dmlc-core\\tracker\\yarn\\build.sh -> build\\lib.win32-3.8\\xgboost\\dmlc-core\\tracker\\yarn\n",
      "    copying xgboost\\dmlc-core\\tracker\\yarn\\pom.xml -> build\\lib.win32-3.8\\xgboost\\dmlc-core\\tracker\\yarn\n",
      "    creating build\\lib.win32-3.8\\xgboost\\dmlc-core\\tracker\\yarn\\src\n",
      "    creating build\\lib.win32-3.8\\xgboost\\dmlc-core\\tracker\\yarn\\src\\main\n",
      "    creating build\\lib.win32-3.8\\xgboost\\dmlc-core\\tracker\\yarn\\src\\main\\java\n",
      "    creating build\\lib.win32-3.8\\xgboost\\dmlc-core\\tracker\\yarn\\src\\main\\java\\org\n",
      "    creating build\\lib.win32-3.8\\xgboost\\dmlc-core\\tracker\\yarn\\src\\main\\java\\org\\apache\n",
      "    creating build\\lib.win32-3.8\\xgboost\\dmlc-core\\tracker\\yarn\\src\\main\\java\\org\\apache\\hadoop\n",
      "    creating build\\lib.win32-3.8\\xgboost\\dmlc-core\\tracker\\yarn\\src\\main\\java\\org\\apache\\hadoop\\yarn\n",
      "    creating build\\lib.win32-3.8\\xgboost\\dmlc-core\\tracker\\yarn\\src\\main\\java\\org\\apache\\hadoop\\yarn\\dmlc\n",
      "    copying xgboost\\dmlc-core\\tracker\\yarn\\src\\main\\java\\org\\apache\\hadoop\\yarn\\dmlc\\ApplicationMaster.java -> build\\lib.win32-3.8\\xgboost\\dmlc-core\\tracker\\yarn\\src\\main\\java\\org\\apache\\hadoop\\yarn\\dmlc\n",
      "    copying xgboost\\dmlc-core\\tracker\\yarn\\src\\main\\java\\org\\apache\\hadoop\\yarn\\dmlc\\Client.java -> build\\lib.win32-3.8\\xgboost\\dmlc-core\\tracker\\yarn\\src\\main\\java\\org\\apache\\hadoop\\yarn\\dmlc\n",
      "    copying xgboost\\dmlc-core\\tracker\\yarn\\src\\main\\java\\org\\apache\\hadoop\\yarn\\dmlc\\TaskRecord.java -> build\\lib.win32-3.8\\xgboost\\dmlc-core\\tracker\\yarn\\src\\main\\java\\org\\apache\\hadoop\\yarn\\dmlc\n",
      "    creating build\\lib.win32-3.8\\xgboost\\dmlc-core\\windows\n",
      "    copying xgboost\\dmlc-core\\windows\\dmlc.sln -> build\\lib.win32-3.8\\xgboost\\dmlc-core\\windows\n",
      "    creating build\\lib.win32-3.8\\xgboost\\dmlc-core\\windows\\dmlc\n",
      "    copying xgboost\\dmlc-core\\windows\\dmlc\\dmlc.vcxproj -> build\\lib.win32-3.8\\xgboost\\dmlc-core\\windows\\dmlc\n",
      "    creating build\\lib.win32-3.8\\xgboost\\include\n",
      "    creating build\\lib.win32-3.8\\xgboost\\include\\xgboost\n",
      "    copying xgboost\\include\\xgboost\\base.h -> build\\lib.win32-3.8\\xgboost\\include\\xgboost\n",
      "    copying xgboost\\include\\xgboost\\c_api.h -> build\\lib.win32-3.8\\xgboost\\include\\xgboost\n",
      "    copying xgboost\\include\\xgboost\\data.h -> build\\lib.win32-3.8\\xgboost\\include\\xgboost\n",
      "    copying xgboost\\include\\xgboost\\feature_map.h -> build\\lib.win32-3.8\\xgboost\\include\\xgboost\n",
      "    copying xgboost\\include\\xgboost\\gbm.h -> build\\lib.win32-3.8\\xgboost\\include\\xgboost\n",
      "    copying xgboost\\include\\xgboost\\generic_parameters.h -> build\\lib.win32-3.8\\xgboost\\include\\xgboost\n",
      "    copying xgboost\\include\\xgboost\\global_config.h -> build\\lib.win32-3.8\\xgboost\\include\\xgboost\n",
      "    copying xgboost\\include\\xgboost\\host_device_vector.h -> build\\lib.win32-3.8\\xgboost\\include\\xgboost\n",
      "    copying xgboost\\include\\xgboost\\intrusive_ptr.h -> build\\lib.win32-3.8\\xgboost\\include\\xgboost\n",
      "    copying xgboost\\include\\xgboost\\json.h -> build\\lib.win32-3.8\\xgboost\\include\\xgboost\n",
      "    copying xgboost\\include\\xgboost\\json_io.h -> build\\lib.win32-3.8\\xgboost\\include\\xgboost\n",
      "    copying xgboost\\include\\xgboost\\learner.h -> build\\lib.win32-3.8\\xgboost\\include\\xgboost\n",
      "    copying xgboost\\include\\xgboost\\linear_updater.h -> build\\lib.win32-3.8\\xgboost\\include\\xgboost\n",
      "    copying xgboost\\include\\xgboost\\logging.h -> build\\lib.win32-3.8\\xgboost\\include\\xgboost\n",
      "    copying xgboost\\include\\xgboost\\metric.h -> build\\lib.win32-3.8\\xgboost\\include\\xgboost\n",
      "    copying xgboost\\include\\xgboost\\model.h -> build\\lib.win32-3.8\\xgboost\\include\\xgboost\n",
      "    copying xgboost\\include\\xgboost\\objective.h -> build\\lib.win32-3.8\\xgboost\\include\\xgboost\n",
      "    copying xgboost\\include\\xgboost\\parameter.h -> build\\lib.win32-3.8\\xgboost\\include\\xgboost\n",
      "    copying xgboost\\include\\xgboost\\predictor.h -> build\\lib.win32-3.8\\xgboost\\include\\xgboost\n",
      "    copying xgboost\\include\\xgboost\\span.h -> build\\lib.win32-3.8\\xgboost\\include\\xgboost\n",
      "    copying xgboost\\include\\xgboost\\tree_model.h -> build\\lib.win32-3.8\\xgboost\\include\\xgboost\n",
      "    copying xgboost\\include\\xgboost\\tree_updater.h -> build\\lib.win32-3.8\\xgboost\\include\\xgboost\n",
      "    copying xgboost\\include\\xgboost\\version_config.h -> build\\lib.win32-3.8\\xgboost\\include\\xgboost\n",
      "    creating build\\lib.win32-3.8\\xgboost\\plugin\n",
      "    copying xgboost\\plugin\\CMakeLists.txt -> build\\lib.win32-3.8\\xgboost\\plugin\n",
      "    copying xgboost\\plugin\\README.md -> build\\lib.win32-3.8\\xgboost\\plugin\n",
      "    creating build\\lib.win32-3.8\\xgboost\\plugin\\dense_parser\n",
      "    copying xgboost\\plugin\\dense_parser\\dense_libsvm.cc -> build\\lib.win32-3.8\\xgboost\\plugin\\dense_parser\n",
      "    creating build\\lib.win32-3.8\\xgboost\\plugin\\example\n",
      "    copying xgboost\\plugin\\example\\README.md -> build\\lib.win32-3.8\\xgboost\\plugin\\example\n",
      "    copying xgboost\\plugin\\example\\custom_obj.cc -> build\\lib.win32-3.8\\xgboost\\plugin\\example\n",
      "    creating build\\lib.win32-3.8\\xgboost\\plugin\\lz4\n",
      "    copying xgboost\\plugin\\lz4\\sparse_page_lz4_format.cc -> build\\lib.win32-3.8\\xgboost\\plugin\\lz4\n",
      "    creating build\\lib.win32-3.8\\xgboost\\plugin\\updater_gpu\n",
      "    copying xgboost\\plugin\\updater_gpu\\README.md -> build\\lib.win32-3.8\\xgboost\\plugin\\updater_gpu\n",
      "    creating build\\lib.win32-3.8\\xgboost\\plugin\\updater_oneapi\n",
      "    copying xgboost\\plugin\\updater_oneapi\\README.md -> build\\lib.win32-3.8\\xgboost\\plugin\\updater_oneapi\n",
      "    copying xgboost\\plugin\\updater_oneapi\\predictor_oneapi.cc -> build\\lib.win32-3.8\\xgboost\\plugin\\updater_oneapi\n",
      "    copying xgboost\\plugin\\updater_oneapi\\regression_loss_oneapi.h -> build\\lib.win32-3.8\\xgboost\\plugin\\updater_oneapi\n",
      "    copying xgboost\\plugin\\updater_oneapi\\regression_obj_oneapi.cc -> build\\lib.win32-3.8\\xgboost\\plugin\\updater_oneapi\n",
      "    creating build\\lib.win32-3.8\\xgboost\\rabit\n",
      "    copying xgboost\\rabit\\CMakeLists.txt -> build\\lib.win32-3.8\\xgboost\\rabit\n",
      "    creating build\\lib.win32-3.8\\xgboost\\rabit\\include\n",
      "    creating build\\lib.win32-3.8\\xgboost\\rabit\\include\\rabit\n",
      "    copying xgboost\\rabit\\include\\rabit\\base.h -> build\\lib.win32-3.8\\xgboost\\rabit\\include\\rabit\n",
      "    copying xgboost\\rabit\\include\\rabit\\c_api.h -> build\\lib.win32-3.8\\xgboost\\rabit\\include\\rabit\n",
      "    copying xgboost\\rabit\\include\\rabit\\rabit.h -> build\\lib.win32-3.8\\xgboost\\rabit\\include\\rabit\n",
      "    copying xgboost\\rabit\\include\\rabit\\serializable.h -> build\\lib.win32-3.8\\xgboost\\rabit\\include\\rabit\n",
      "    creating build\\lib.win32-3.8\\xgboost\\rabit\\include\\rabit\\internal\n",
      "    copying xgboost\\rabit\\include\\rabit\\internal\\engine.h -> build\\lib.win32-3.8\\xgboost\\rabit\\include\\rabit\\internal\n",
      "    copying xgboost\\rabit\\include\\rabit\\internal\\io.h -> build\\lib.win32-3.8\\xgboost\\rabit\\include\\rabit\\internal\n",
      "    copying xgboost\\rabit\\include\\rabit\\internal\\rabit-inl.h -> build\\lib.win32-3.8\\xgboost\\rabit\\include\\rabit\\internal\n",
      "    copying xgboost\\rabit\\include\\rabit\\internal\\socket.h -> build\\lib.win32-3.8\\xgboost\\rabit\\include\\rabit\\internal\n",
      "    copying xgboost\\rabit\\include\\rabit\\internal\\utils.h -> build\\lib.win32-3.8\\xgboost\\rabit\\include\\rabit\\internal\n",
      "    creating build\\lib.win32-3.8\\xgboost\\rabit\\src\n",
      "    copying xgboost\\rabit\\src\\allreduce_base.cc -> build\\lib.win32-3.8\\xgboost\\rabit\\src\n",
      "    copying xgboost\\rabit\\src\\allreduce_base.h -> build\\lib.win32-3.8\\xgboost\\rabit\\src\n",
      "    copying xgboost\\rabit\\src\\allreduce_mock.h -> build\\lib.win32-3.8\\xgboost\\rabit\\src\n",
      "    copying xgboost\\rabit\\src\\c_api.cc -> build\\lib.win32-3.8\\xgboost\\rabit\\src\n",
      "    copying xgboost\\rabit\\src\\engine.cc -> build\\lib.win32-3.8\\xgboost\\rabit\\src\n",
      "    copying xgboost\\rabit\\src\\engine_mock.cc -> build\\lib.win32-3.8\\xgboost\\rabit\\src\n",
      "    copying xgboost\\rabit\\src\\engine_mpi.cc -> build\\lib.win32-3.8\\xgboost\\rabit\\src\n",
      "    creating build\\lib.win32-3.8\\xgboost\\src\n",
      "    copying xgboost\\src\\CMakeLists.txt -> build\\lib.win32-3.8\\xgboost\\src\n",
      "    copying xgboost\\src\\cli_main.cc -> build\\lib.win32-3.8\\xgboost\\src\n",
      "    copying xgboost\\src\\global_config.cc -> build\\lib.win32-3.8\\xgboost\\src\n",
      "    copying xgboost\\src\\learner.cc -> build\\lib.win32-3.8\\xgboost\\src\n",
      "    copying xgboost\\src\\logging.cc -> build\\lib.win32-3.8\\xgboost\\src\n",
      "    creating build\\lib.win32-3.8\\xgboost\\src\\c_api\n",
      "    copying xgboost\\src\\c_api\\c_api.cc -> build\\lib.win32-3.8\\xgboost\\src\\c_api\n",
      "    copying xgboost\\src\\c_api\\c_api.cu -> build\\lib.win32-3.8\\xgboost\\src\\c_api\n",
      "    copying xgboost\\src\\c_api\\c_api_error.cc -> build\\lib.win32-3.8\\xgboost\\src\\c_api\n",
      "    copying xgboost\\src\\c_api\\c_api_error.h -> build\\lib.win32-3.8\\xgboost\\src\\c_api\n",
      "    copying xgboost\\src\\c_api\\c_api_utils.h -> build\\lib.win32-3.8\\xgboost\\src\\c_api\n",
      "    creating build\\lib.win32-3.8\\xgboost\\src\\common\n",
      "    copying xgboost\\src\\common\\base64.h -> build\\lib.win32-3.8\\xgboost\\src\\common\n",
      "    copying xgboost\\src\\common\\bitfield.h -> build\\lib.win32-3.8\\xgboost\\src\\common\n",
      "    copying xgboost\\src\\common\\categorical.h -> build\\lib.win32-3.8\\xgboost\\src\\common\n",
      "    copying xgboost\\src\\common\\charconv.cc -> build\\lib.win32-3.8\\xgboost\\src\\common\n",
      "    copying xgboost\\src\\common\\charconv.h -> build\\lib.win32-3.8\\xgboost\\src\\common\n",
      "    copying xgboost\\src\\common\\column_matrix.h -> build\\lib.win32-3.8\\xgboost\\src\\common\n",
      "    copying xgboost\\src\\common\\common.cc -> build\\lib.win32-3.8\\xgboost\\src\\common\n",
      "    copying xgboost\\src\\common\\common.cu -> build\\lib.win32-3.8\\xgboost\\src\\common\n",
      "    copying xgboost\\src\\common\\common.h -> build\\lib.win32-3.8\\xgboost\\src\\common\n",
      "    copying xgboost\\src\\common\\compressed_iterator.h -> build\\lib.win32-3.8\\xgboost\\src\\common\n",
      "    copying xgboost\\src\\common\\config.h -> build\\lib.win32-3.8\\xgboost\\src\\common\n",
      "    copying xgboost\\src\\common\\device_helpers.cu -> build\\lib.win32-3.8\\xgboost\\src\\common\n",
      "    copying xgboost\\src\\common\\device_helpers.cuh -> build\\lib.win32-3.8\\xgboost\\src\\common\n",
      "    copying xgboost\\src\\common\\group_data.h -> build\\lib.win32-3.8\\xgboost\\src\\common\n",
      "    copying xgboost\\src\\common\\hist_util.cc -> build\\lib.win32-3.8\\xgboost\\src\\common\n",
      "    copying xgboost\\src\\common\\hist_util.cu -> build\\lib.win32-3.8\\xgboost\\src\\common\n",
      "    copying xgboost\\src\\common\\hist_util.cuh -> build\\lib.win32-3.8\\xgboost\\src\\common\n",
      "    copying xgboost\\src\\common\\hist_util.h -> build\\lib.win32-3.8\\xgboost\\src\\common\n",
      "    copying xgboost\\src\\common\\host_device_vector.cc -> build\\lib.win32-3.8\\xgboost\\src\\common\n",
      "    copying xgboost\\src\\common\\host_device_vector.cu -> build\\lib.win32-3.8\\xgboost\\src\\common\n",
      "    copying xgboost\\src\\common\\io.cc -> build\\lib.win32-3.8\\xgboost\\src\\common\n",
      "    copying xgboost\\src\\common\\io.h -> build\\lib.win32-3.8\\xgboost\\src\\common\n",
      "    copying xgboost\\src\\common\\json.cc -> build\\lib.win32-3.8\\xgboost\\src\\common\n",
      "    copying xgboost\\src\\common\\math.h -> build\\lib.win32-3.8\\xgboost\\src\\common\n",
      "    copying xgboost\\src\\common\\observer.h -> build\\lib.win32-3.8\\xgboost\\src\\common\n",
      "    copying xgboost\\src\\common\\probability_distribution.h -> build\\lib.win32-3.8\\xgboost\\src\\common\n",
      "    copying xgboost\\src\\common\\quantile.cc -> build\\lib.win32-3.8\\xgboost\\src\\common\n",
      "    copying xgboost\\src\\common\\quantile.cu -> build\\lib.win32-3.8\\xgboost\\src\\common\n",
      "    copying xgboost\\src\\common\\quantile.cuh -> build\\lib.win32-3.8\\xgboost\\src\\common\n",
      "    copying xgboost\\src\\common\\quantile.h -> build\\lib.win32-3.8\\xgboost\\src\\common\n",
      "    copying xgboost\\src\\common\\random.cc -> build\\lib.win32-3.8\\xgboost\\src\\common\n",
      "    copying xgboost\\src\\common\\random.h -> build\\lib.win32-3.8\\xgboost\\src\\common\n",
      "    copying xgboost\\src\\common\\ranking_utils.cuh -> build\\lib.win32-3.8\\xgboost\\src\\common\n",
      "    copying xgboost\\src\\common\\row_set.h -> build\\lib.win32-3.8\\xgboost\\src\\common\n",
      "    copying xgboost\\src\\common\\survival_util.cc -> build\\lib.win32-3.8\\xgboost\\src\\common\n",
      "    copying xgboost\\src\\common\\survival_util.h -> build\\lib.win32-3.8\\xgboost\\src\\common\n",
      "    copying xgboost\\src\\common\\threading_utils.h -> build\\lib.win32-3.8\\xgboost\\src\\common\n",
      "    copying xgboost\\src\\common\\timer.cc -> build\\lib.win32-3.8\\xgboost\\src\\common\n",
      "    copying xgboost\\src\\common\\timer.h -> build\\lib.win32-3.8\\xgboost\\src\\common\n",
      "    copying xgboost\\src\\common\\transform.h -> build\\lib.win32-3.8\\xgboost\\src\\common\n",
      "    copying xgboost\\src\\common\\version.cc -> build\\lib.win32-3.8\\xgboost\\src\\common\n",
      "    copying xgboost\\src\\common\\version.h -> build\\lib.win32-3.8\\xgboost\\src\\common\n",
      "    creating build\\lib.win32-3.8\\xgboost\\src\\data\n",
      "    copying xgboost\\src\\data\\adapter.h -> build\\lib.win32-3.8\\xgboost\\src\\data\n",
      "    copying xgboost\\src\\data\\array_interface.cu -> build\\lib.win32-3.8\\xgboost\\src\\data\n",
      "    copying xgboost\\src\\data\\array_interface.h -> build\\lib.win32-3.8\\xgboost\\src\\data\n",
      "    copying xgboost\\src\\data\\data.cc -> build\\lib.win32-3.8\\xgboost\\src\\data\n",
      "    copying xgboost\\src\\data\\data.cu -> build\\lib.win32-3.8\\xgboost\\src\\data\n",
      "    copying xgboost\\src\\data\\device_adapter.cuh -> build\\lib.win32-3.8\\xgboost\\src\\data\n",
      "    copying xgboost\\src\\data\\ellpack_page.cc -> build\\lib.win32-3.8\\xgboost\\src\\data\n",
      "    copying xgboost\\src\\data\\ellpack_page.cu -> build\\lib.win32-3.8\\xgboost\\src\\data\n",
      "    copying xgboost\\src\\data\\ellpack_page.cuh -> build\\lib.win32-3.8\\xgboost\\src\\data\n",
      "    copying xgboost\\src\\data\\ellpack_page_raw_format.cu -> build\\lib.win32-3.8\\xgboost\\src\\data\n",
      "    copying xgboost\\src\\data\\ellpack_page_source.cc -> build\\lib.win32-3.8\\xgboost\\src\\data\n",
      "    copying xgboost\\src\\data\\ellpack_page_source.cu -> build\\lib.win32-3.8\\xgboost\\src\\data\n",
      "    copying xgboost\\src\\data\\ellpack_page_source.h -> build\\lib.win32-3.8\\xgboost\\src\\data\n",
      "    copying xgboost\\src\\data\\iterative_device_dmatrix.cu -> build\\lib.win32-3.8\\xgboost\\src\\data\n",
      "    copying xgboost\\src\\data\\iterative_device_dmatrix.h -> build\\lib.win32-3.8\\xgboost\\src\\data\n",
      "    copying xgboost\\src\\data\\proxy_dmatrix.cu -> build\\lib.win32-3.8\\xgboost\\src\\data\n",
      "    copying xgboost\\src\\data\\proxy_dmatrix.h -> build\\lib.win32-3.8\\xgboost\\src\\data\n",
      "    copying xgboost\\src\\data\\simple_batch_iterator.h -> build\\lib.win32-3.8\\xgboost\\src\\data\n",
      "    copying xgboost\\src\\data\\simple_dmatrix.cc -> build\\lib.win32-3.8\\xgboost\\src\\data\n",
      "    copying xgboost\\src\\data\\simple_dmatrix.cu -> build\\lib.win32-3.8\\xgboost\\src\\data\n",
      "    copying xgboost\\src\\data\\simple_dmatrix.h -> build\\lib.win32-3.8\\xgboost\\src\\data\n",
      "    copying xgboost\\src\\data\\sparse_page_dmatrix.cc -> build\\lib.win32-3.8\\xgboost\\src\\data\n",
      "    copying xgboost\\src\\data\\sparse_page_dmatrix.h -> build\\lib.win32-3.8\\xgboost\\src\\data\n",
      "    copying xgboost\\src\\data\\sparse_page_raw_format.cc -> build\\lib.win32-3.8\\xgboost\\src\\data\n",
      "    copying xgboost\\src\\data\\sparse_page_source.cc -> build\\lib.win32-3.8\\xgboost\\src\\data\n",
      "    copying xgboost\\src\\data\\sparse_page_source.h -> build\\lib.win32-3.8\\xgboost\\src\\data\n",
      "    copying xgboost\\src\\data\\sparse_page_writer.h -> build\\lib.win32-3.8\\xgboost\\src\\data\n",
      "    creating build\\lib.win32-3.8\\xgboost\\src\\gbm\n"
     ]
    },
    {
     "name": "stderr",
     "output_type": "stream",
     "text": [
      "    copying xgboost\\src\\gbm\\gblinear.cc -> build\\lib.win32-3.8\\xgboost\\src\\gbm\n",
      "    copying xgboost\\src\\gbm\\gblinear_model.cc -> build\\lib.win32-3.8\\xgboost\\src\\gbm\n",
      "    copying xgboost\\src\\gbm\\gblinear_model.h -> build\\lib.win32-3.8\\xgboost\\src\\gbm\n",
      "    copying xgboost\\src\\gbm\\gbm.cc -> build\\lib.win32-3.8\\xgboost\\src\\gbm\n",
      "    copying xgboost\\src\\gbm\\gbtree.cc -> build\\lib.win32-3.8\\xgboost\\src\\gbm\n",
      "    copying xgboost\\src\\gbm\\gbtree.cu -> build\\lib.win32-3.8\\xgboost\\src\\gbm\n",
      "    copying xgboost\\src\\gbm\\gbtree.h -> build\\lib.win32-3.8\\xgboost\\src\\gbm\n",
      "    copying xgboost\\src\\gbm\\gbtree_model.cc -> build\\lib.win32-3.8\\xgboost\\src\\gbm\n",
      "    copying xgboost\\src\\gbm\\gbtree_model.h -> build\\lib.win32-3.8\\xgboost\\src\\gbm\n",
      "    creating build\\lib.win32-3.8\\xgboost\\src\\linear\n",
      "    copying xgboost\\src\\linear\\coordinate_common.h -> build\\lib.win32-3.8\\xgboost\\src\\linear\n",
      "    copying xgboost\\src\\linear\\linear_updater.cc -> build\\lib.win32-3.8\\xgboost\\src\\linear\n",
      "    copying xgboost\\src\\linear\\param.h -> build\\lib.win32-3.8\\xgboost\\src\\linear\n",
      "    copying xgboost\\src\\linear\\updater_coordinate.cc -> build\\lib.win32-3.8\\xgboost\\src\\linear\n",
      "    copying xgboost\\src\\linear\\updater_gpu_coordinate.cu -> build\\lib.win32-3.8\\xgboost\\src\\linear\n",
      "    copying xgboost\\src\\linear\\updater_shotgun.cc -> build\\lib.win32-3.8\\xgboost\\src\\linear\n",
      "    creating build\\lib.win32-3.8\\xgboost\\src\\metric\n",
      "    copying xgboost\\src\\metric\\auc.cc -> build\\lib.win32-3.8\\xgboost\\src\\metric\n",
      "    copying xgboost\\src\\metric\\auc.cu -> build\\lib.win32-3.8\\xgboost\\src\\metric\n",
      "    copying xgboost\\src\\metric\\auc.h -> build\\lib.win32-3.8\\xgboost\\src\\metric\n",
      "    copying xgboost\\src\\metric\\elementwise_metric.cc -> build\\lib.win32-3.8\\xgboost\\src\\metric\n",
      "    copying xgboost\\src\\metric\\elementwise_metric.cu -> build\\lib.win32-3.8\\xgboost\\src\\metric\n",
      "    copying xgboost\\src\\metric\\metric.cc -> build\\lib.win32-3.8\\xgboost\\src\\metric\n",
      "    copying xgboost\\src\\metric\\metric_common.h -> build\\lib.win32-3.8\\xgboost\\src\\metric\n",
      "    copying xgboost\\src\\metric\\multiclass_metric.cc -> build\\lib.win32-3.8\\xgboost\\src\\metric\n",
      "    copying xgboost\\src\\metric\\multiclass_metric.cu -> build\\lib.win32-3.8\\xgboost\\src\\metric\n",
      "    copying xgboost\\src\\metric\\rank_metric.cc -> build\\lib.win32-3.8\\xgboost\\src\\metric\n",
      "    copying xgboost\\src\\metric\\rank_metric.cu -> build\\lib.win32-3.8\\xgboost\\src\\metric\n",
      "    copying xgboost\\src\\metric\\survival_metric.cc -> build\\lib.win32-3.8\\xgboost\\src\\metric\n",
      "    copying xgboost\\src\\metric\\survival_metric.cu -> build\\lib.win32-3.8\\xgboost\\src\\metric\n",
      "    creating build\\lib.win32-3.8\\xgboost\\src\\objective\n",
      "    copying xgboost\\src\\objective\\aft_obj.cc -> build\\lib.win32-3.8\\xgboost\\src\\objective\n",
      "    copying xgboost\\src\\objective\\aft_obj.cu -> build\\lib.win32-3.8\\xgboost\\src\\objective\n",
      "    copying xgboost\\src\\objective\\hinge.cc -> build\\lib.win32-3.8\\xgboost\\src\\objective\n",
      "    copying xgboost\\src\\objective\\hinge.cu -> build\\lib.win32-3.8\\xgboost\\src\\objective\n",
      "    copying xgboost\\src\\objective\\multiclass_obj.cc -> build\\lib.win32-3.8\\xgboost\\src\\objective\n",
      "    copying xgboost\\src\\objective\\multiclass_obj.cu -> build\\lib.win32-3.8\\xgboost\\src\\objective\n",
      "    copying xgboost\\src\\objective\\objective.cc -> build\\lib.win32-3.8\\xgboost\\src\\objective\n",
      "    copying xgboost\\src\\objective\\rank_obj.cc -> build\\lib.win32-3.8\\xgboost\\src\\objective\n",
      "    copying xgboost\\src\\objective\\rank_obj.cu -> build\\lib.win32-3.8\\xgboost\\src\\objective\n",
      "    copying xgboost\\src\\objective\\regression_loss.h -> build\\lib.win32-3.8\\xgboost\\src\\objective\n",
      "    copying xgboost\\src\\objective\\regression_obj.cc -> build\\lib.win32-3.8\\xgboost\\src\\objective\n",
      "    copying xgboost\\src\\objective\\regression_obj.cu -> build\\lib.win32-3.8\\xgboost\\src\\objective\n",
      "    creating build\\lib.win32-3.8\\xgboost\\src\\predictor\n",
      "    copying xgboost\\src\\predictor\\cpu_predictor.cc -> build\\lib.win32-3.8\\xgboost\\src\\predictor\n",
      "    copying xgboost\\src\\predictor\\gpu_predictor.cu -> build\\lib.win32-3.8\\xgboost\\src\\predictor\n",
      "    copying xgboost\\src\\predictor\\predictor.cc -> build\\lib.win32-3.8\\xgboost\\src\\predictor\n",
      "    creating build\\lib.win32-3.8\\xgboost\\src\\tree\n",
      "    copying xgboost\\src\\tree\\constraints.cc -> build\\lib.win32-3.8\\xgboost\\src\\tree\n",
      "    copying xgboost\\src\\tree\\constraints.cu -> build\\lib.win32-3.8\\xgboost\\src\\tree\n",
      "    copying xgboost\\src\\tree\\constraints.cuh -> build\\lib.win32-3.8\\xgboost\\src\\tree\n",
      "    copying xgboost\\src\\tree\\constraints.h -> build\\lib.win32-3.8\\xgboost\\src\\tree\n",
      "    copying xgboost\\src\\tree\\param.cc -> build\\lib.win32-3.8\\xgboost\\src\\tree\n",
      "    copying xgboost\\src\\tree\\param.h -> build\\lib.win32-3.8\\xgboost\\src\\tree\n",
      "    copying xgboost\\src\\tree\\split_evaluator.h -> build\\lib.win32-3.8\\xgboost\\src\\tree\n",
      "    copying xgboost\\src\\tree\\tree_model.cc -> build\\lib.win32-3.8\\xgboost\\src\\tree\n",
      "    copying xgboost\\src\\tree\\tree_updater.cc -> build\\lib.win32-3.8\\xgboost\\src\\tree\n",
      "    copying xgboost\\src\\tree\\updater_basemaker-inl.h -> build\\lib.win32-3.8\\xgboost\\src\\tree\n",
      "    copying xgboost\\src\\tree\\updater_colmaker.cc -> build\\lib.win32-3.8\\xgboost\\src\\tree\n",
      "    copying xgboost\\src\\tree\\updater_gpu_common.cuh -> build\\lib.win32-3.8\\xgboost\\src\\tree\n",
      "    copying xgboost\\src\\tree\\updater_gpu_hist.cu -> build\\lib.win32-3.8\\xgboost\\src\\tree\n",
      "    copying xgboost\\src\\tree\\updater_histmaker.cc -> build\\lib.win32-3.8\\xgboost\\src\\tree\n",
      "    copying xgboost\\src\\tree\\updater_prune.cc -> build\\lib.win32-3.8\\xgboost\\src\\tree\n",
      "    copying xgboost\\src\\tree\\updater_quantile_hist.cc -> build\\lib.win32-3.8\\xgboost\\src\\tree\n",
      "    copying xgboost\\src\\tree\\updater_quantile_hist.h -> build\\lib.win32-3.8\\xgboost\\src\\tree\n",
      "    copying xgboost\\src\\tree\\updater_refresh.cc -> build\\lib.win32-3.8\\xgboost\\src\\tree\n",
      "    copying xgboost\\src\\tree\\updater_sync.cc -> build\\lib.win32-3.8\\xgboost\\src\\tree\n",
      "    creating build\\lib.win32-3.8\\xgboost\\src\\tree\\gpu_hist\n",
      "    copying xgboost\\src\\tree\\gpu_hist\\driver.cuh -> build\\lib.win32-3.8\\xgboost\\src\\tree\\gpu_hist\n",
      "    copying xgboost\\src\\tree\\gpu_hist\\evaluate_splits.cu -> build\\lib.win32-3.8\\xgboost\\src\\tree\\gpu_hist\n",
      "    copying xgboost\\src\\tree\\gpu_hist\\evaluate_splits.cuh -> build\\lib.win32-3.8\\xgboost\\src\\tree\\gpu_hist\n",
      "    copying xgboost\\src\\tree\\gpu_hist\\feature_groups.cu -> build\\lib.win32-3.8\\xgboost\\src\\tree\\gpu_hist\n",
      "    copying xgboost\\src\\tree\\gpu_hist\\feature_groups.cuh -> build\\lib.win32-3.8\\xgboost\\src\\tree\\gpu_hist\n",
      "    copying xgboost\\src\\tree\\gpu_hist\\gradient_based_sampler.cu -> build\\lib.win32-3.8\\xgboost\\src\\tree\\gpu_hist\n",
      "    copying xgboost\\src\\tree\\gpu_hist\\gradient_based_sampler.cuh -> build\\lib.win32-3.8\\xgboost\\src\\tree\\gpu_hist\n",
      "    copying xgboost\\src\\tree\\gpu_hist\\histogram.cu -> build\\lib.win32-3.8\\xgboost\\src\\tree\\gpu_hist\n",
      "    copying xgboost\\src\\tree\\gpu_hist\\histogram.cuh -> build\\lib.win32-3.8\\xgboost\\src\\tree\\gpu_hist\n",
      "    copying xgboost\\src\\tree\\gpu_hist\\row_partitioner.cu -> build\\lib.win32-3.8\\xgboost\\src\\tree\\gpu_hist\n",
      "    copying xgboost\\src\\tree\\gpu_hist\\row_partitioner.cuh -> build\\lib.win32-3.8\\xgboost\\src\\tree\\gpu_hist\n",
      "    running build_ext\n",
      "    creating build\\temp.win32-3.8\n",
      "    creating build\\temp.win32-3.8\\Release\n",
      "    creating build\\temp.win32-3.8\\Release\\xgboost\n",
      "    creating build\\temp.win32-3.8\\Release\\xgboost\\src\n",
      "    copying xgboost\\src\\cli_main.cc -> build\\temp.win32-3.8\\Release\\xgboost\\src\n",
      "    copying xgboost\\src\\CMakeLists.txt -> build\\temp.win32-3.8\\Release\\xgboost\\src\n",
      "    creating build\\temp.win32-3.8\\Release\\xgboost\\src\\common\n",
      "    copying xgboost\\src\\common\\base64.h -> build\\temp.win32-3.8\\Release\\xgboost\\src\\common\n",
      "    copying xgboost\\src\\common\\bitfield.h -> build\\temp.win32-3.8\\Release\\xgboost\\src\\common\n",
      "    copying xgboost\\src\\common\\categorical.h -> build\\temp.win32-3.8\\Release\\xgboost\\src\\common\n",
      "    copying xgboost\\src\\common\\charconv.cc -> build\\temp.win32-3.8\\Release\\xgboost\\src\\common\n",
      "    copying xgboost\\src\\common\\charconv.h -> build\\temp.win32-3.8\\Release\\xgboost\\src\\common\n",
      "    copying xgboost\\src\\common\\column_matrix.h -> build\\temp.win32-3.8\\Release\\xgboost\\src\\common\n",
      "    copying xgboost\\src\\common\\common.cc -> build\\temp.win32-3.8\\Release\\xgboost\\src\\common\n",
      "    copying xgboost\\src\\common\\common.cu -> build\\temp.win32-3.8\\Release\\xgboost\\src\\common\n",
      "    copying xgboost\\src\\common\\common.h -> build\\temp.win32-3.8\\Release\\xgboost\\src\\common\n",
      "    copying xgboost\\src\\common\\compressed_iterator.h -> build\\temp.win32-3.8\\Release\\xgboost\\src\\common\n",
      "    copying xgboost\\src\\common\\config.h -> build\\temp.win32-3.8\\Release\\xgboost\\src\\common\n",
      "    copying xgboost\\src\\common\\device_helpers.cu -> build\\temp.win32-3.8\\Release\\xgboost\\src\\common\n",
      "    copying xgboost\\src\\common\\device_helpers.cuh -> build\\temp.win32-3.8\\Release\\xgboost\\src\\common\n",
      "    copying xgboost\\src\\common\\group_data.h -> build\\temp.win32-3.8\\Release\\xgboost\\src\\common\n",
      "    copying xgboost\\src\\common\\hist_util.cc -> build\\temp.win32-3.8\\Release\\xgboost\\src\\common\n",
      "    copying xgboost\\src\\common\\hist_util.cu -> build\\temp.win32-3.8\\Release\\xgboost\\src\\common\n",
      "    copying xgboost\\src\\common\\hist_util.cuh -> build\\temp.win32-3.8\\Release\\xgboost\\src\\common\n",
      "    copying xgboost\\src\\common\\hist_util.h -> build\\temp.win32-3.8\\Release\\xgboost\\src\\common\n",
      "    copying xgboost\\src\\common\\host_device_vector.cc -> build\\temp.win32-3.8\\Release\\xgboost\\src\\common\n",
      "    copying xgboost\\src\\common\\host_device_vector.cu -> build\\temp.win32-3.8\\Release\\xgboost\\src\\common\n",
      "    copying xgboost\\src\\common\\io.cc -> build\\temp.win32-3.8\\Release\\xgboost\\src\\common\n",
      "    copying xgboost\\src\\common\\io.h -> build\\temp.win32-3.8\\Release\\xgboost\\src\\common\n",
      "    copying xgboost\\src\\common\\json.cc -> build\\temp.win32-3.8\\Release\\xgboost\\src\\common\n",
      "    copying xgboost\\src\\common\\math.h -> build\\temp.win32-3.8\\Release\\xgboost\\src\\common\n",
      "    copying xgboost\\src\\common\\observer.h -> build\\temp.win32-3.8\\Release\\xgboost\\src\\common\n",
      "    copying xgboost\\src\\common\\probability_distribution.h -> build\\temp.win32-3.8\\Release\\xgboost\\src\\common\n",
      "    copying xgboost\\src\\common\\quantile.cc -> build\\temp.win32-3.8\\Release\\xgboost\\src\\common\n",
      "    copying xgboost\\src\\common\\quantile.cu -> build\\temp.win32-3.8\\Release\\xgboost\\src\\common\n",
      "    copying xgboost\\src\\common\\quantile.cuh -> build\\temp.win32-3.8\\Release\\xgboost\\src\\common\n",
      "    copying xgboost\\src\\common\\quantile.h -> build\\temp.win32-3.8\\Release\\xgboost\\src\\common\n",
      "    copying xgboost\\src\\common\\random.cc -> build\\temp.win32-3.8\\Release\\xgboost\\src\\common\n",
      "    copying xgboost\\src\\common\\random.h -> build\\temp.win32-3.8\\Release\\xgboost\\src\\common\n",
      "    copying xgboost\\src\\common\\ranking_utils.cuh -> build\\temp.win32-3.8\\Release\\xgboost\\src\\common\n",
      "    copying xgboost\\src\\common\\row_set.h -> build\\temp.win32-3.8\\Release\\xgboost\\src\\common\n",
      "    copying xgboost\\src\\common\\survival_util.cc -> build\\temp.win32-3.8\\Release\\xgboost\\src\\common\n",
      "    copying xgboost\\src\\common\\survival_util.h -> build\\temp.win32-3.8\\Release\\xgboost\\src\\common\n",
      "    copying xgboost\\src\\common\\threading_utils.h -> build\\temp.win32-3.8\\Release\\xgboost\\src\\common\n",
      "    copying xgboost\\src\\common\\timer.cc -> build\\temp.win32-3.8\\Release\\xgboost\\src\\common\n",
      "    copying xgboost\\src\\common\\timer.h -> build\\temp.win32-3.8\\Release\\xgboost\\src\\common\n",
      "    copying xgboost\\src\\common\\transform.h -> build\\temp.win32-3.8\\Release\\xgboost\\src\\common\n",
      "    copying xgboost\\src\\common\\version.cc -> build\\temp.win32-3.8\\Release\\xgboost\\src\\common\n",
      "    copying xgboost\\src\\common\\version.h -> build\\temp.win32-3.8\\Release\\xgboost\\src\\common\n",
      "    creating build\\temp.win32-3.8\\Release\\xgboost\\src\\c_api\n",
      "    copying xgboost\\src\\c_api\\c_api.cc -> build\\temp.win32-3.8\\Release\\xgboost\\src\\c_api\n",
      "    copying xgboost\\src\\c_api\\c_api.cu -> build\\temp.win32-3.8\\Release\\xgboost\\src\\c_api\n",
      "    copying xgboost\\src\\c_api\\c_api_error.cc -> build\\temp.win32-3.8\\Release\\xgboost\\src\\c_api\n",
      "    copying xgboost\\src\\c_api\\c_api_error.h -> build\\temp.win32-3.8\\Release\\xgboost\\src\\c_api\n",
      "    copying xgboost\\src\\c_api\\c_api_utils.h -> build\\temp.win32-3.8\\Release\\xgboost\\src\\c_api\n",
      "    creating build\\temp.win32-3.8\\Release\\xgboost\\src\\data\n",
      "    copying xgboost\\src\\data\\adapter.h -> build\\temp.win32-3.8\\Release\\xgboost\\src\\data\n",
      "    copying xgboost\\src\\data\\array_interface.cu -> build\\temp.win32-3.8\\Release\\xgboost\\src\\data\n",
      "    copying xgboost\\src\\data\\array_interface.h -> build\\temp.win32-3.8\\Release\\xgboost\\src\\data\n",
      "    copying xgboost\\src\\data\\data.cc -> build\\temp.win32-3.8\\Release\\xgboost\\src\\data\n",
      "    copying xgboost\\src\\data\\data.cu -> build\\temp.win32-3.8\\Release\\xgboost\\src\\data\n",
      "    copying xgboost\\src\\data\\device_adapter.cuh -> build\\temp.win32-3.8\\Release\\xgboost\\src\\data\n",
      "    copying xgboost\\src\\data\\ellpack_page.cc -> build\\temp.win32-3.8\\Release\\xgboost\\src\\data\n",
      "    copying xgboost\\src\\data\\ellpack_page.cu -> build\\temp.win32-3.8\\Release\\xgboost\\src\\data\n",
      "    copying xgboost\\src\\data\\ellpack_page.cuh -> build\\temp.win32-3.8\\Release\\xgboost\\src\\data\n",
      "    copying xgboost\\src\\data\\ellpack_page_raw_format.cu -> build\\temp.win32-3.8\\Release\\xgboost\\src\\data\n",
      "    copying xgboost\\src\\data\\ellpack_page_source.cc -> build\\temp.win32-3.8\\Release\\xgboost\\src\\data\n",
      "    copying xgboost\\src\\data\\ellpack_page_source.cu -> build\\temp.win32-3.8\\Release\\xgboost\\src\\data\n",
      "    copying xgboost\\src\\data\\ellpack_page_source.h -> build\\temp.win32-3.8\\Release\\xgboost\\src\\data\n",
      "    copying xgboost\\src\\data\\iterative_device_dmatrix.cu -> build\\temp.win32-3.8\\Release\\xgboost\\src\\data\n",
      "    copying xgboost\\src\\data\\iterative_device_dmatrix.h -> build\\temp.win32-3.8\\Release\\xgboost\\src\\data\n",
      "    copying xgboost\\src\\data\\proxy_dmatrix.cu -> build\\temp.win32-3.8\\Release\\xgboost\\src\\data\n",
      "    copying xgboost\\src\\data\\proxy_dmatrix.h -> build\\temp.win32-3.8\\Release\\xgboost\\src\\data\n",
      "    copying xgboost\\src\\data\\simple_batch_iterator.h -> build\\temp.win32-3.8\\Release\\xgboost\\src\\data\n",
      "    copying xgboost\\src\\data\\simple_dmatrix.cc -> build\\temp.win32-3.8\\Release\\xgboost\\src\\data\n",
      "    copying xgboost\\src\\data\\simple_dmatrix.cu -> build\\temp.win32-3.8\\Release\\xgboost\\src\\data\n",
      "    copying xgboost\\src\\data\\simple_dmatrix.h -> build\\temp.win32-3.8\\Release\\xgboost\\src\\data\n",
      "    copying xgboost\\src\\data\\sparse_page_dmatrix.cc -> build\\temp.win32-3.8\\Release\\xgboost\\src\\data\n",
      "    copying xgboost\\src\\data\\sparse_page_dmatrix.h -> build\\temp.win32-3.8\\Release\\xgboost\\src\\data\n",
      "    copying xgboost\\src\\data\\sparse_page_raw_format.cc -> build\\temp.win32-3.8\\Release\\xgboost\\src\\data\n",
      "    copying xgboost\\src\\data\\sparse_page_source.cc -> build\\temp.win32-3.8\\Release\\xgboost\\src\\data\n",
      "    copying xgboost\\src\\data\\sparse_page_source.h -> build\\temp.win32-3.8\\Release\\xgboost\\src\\data\n",
      "    copying xgboost\\src\\data\\sparse_page_writer.h -> build\\temp.win32-3.8\\Release\\xgboost\\src\\data\n",
      "    creating build\\temp.win32-3.8\\Release\\xgboost\\src\\gbm\n",
      "    copying xgboost\\src\\gbm\\gblinear.cc -> build\\temp.win32-3.8\\Release\\xgboost\\src\\gbm\n",
      "    copying xgboost\\src\\gbm\\gblinear_model.cc -> build\\temp.win32-3.8\\Release\\xgboost\\src\\gbm\n",
      "    copying xgboost\\src\\gbm\\gblinear_model.h -> build\\temp.win32-3.8\\Release\\xgboost\\src\\gbm\n",
      "    copying xgboost\\src\\gbm\\gbm.cc -> build\\temp.win32-3.8\\Release\\xgboost\\src\\gbm\n",
      "    copying xgboost\\src\\gbm\\gbtree.cc -> build\\temp.win32-3.8\\Release\\xgboost\\src\\gbm\n",
      "    copying xgboost\\src\\gbm\\gbtree.cu -> build\\temp.win32-3.8\\Release\\xgboost\\src\\gbm\n",
      "    copying xgboost\\src\\gbm\\gbtree.h -> build\\temp.win32-3.8\\Release\\xgboost\\src\\gbm\n",
      "    copying xgboost\\src\\gbm\\gbtree_model.cc -> build\\temp.win32-3.8\\Release\\xgboost\\src\\gbm\n",
      "    copying xgboost\\src\\gbm\\gbtree_model.h -> build\\temp.win32-3.8\\Release\\xgboost\\src\\gbm\n",
      "    copying xgboost\\src\\global_config.cc -> build\\temp.win32-3.8\\Release\\xgboost\\src\n",
      "    copying xgboost\\src\\learner.cc -> build\\temp.win32-3.8\\Release\\xgboost\\src\n",
      "    creating build\\temp.win32-3.8\\Release\\xgboost\\src\\linear\n",
      "    copying xgboost\\src\\linear\\coordinate_common.h -> build\\temp.win32-3.8\\Release\\xgboost\\src\\linear\n",
      "    copying xgboost\\src\\linear\\linear_updater.cc -> build\\temp.win32-3.8\\Release\\xgboost\\src\\linear\n",
      "    copying xgboost\\src\\linear\\param.h -> build\\temp.win32-3.8\\Release\\xgboost\\src\\linear\n",
      "    copying xgboost\\src\\linear\\updater_coordinate.cc -> build\\temp.win32-3.8\\Release\\xgboost\\src\\linear\n",
      "    copying xgboost\\src\\linear\\updater_gpu_coordinate.cu -> build\\temp.win32-3.8\\Release\\xgboost\\src\\linear\n",
      "    copying xgboost\\src\\linear\\updater_shotgun.cc -> build\\temp.win32-3.8\\Release\\xgboost\\src\\linear\n",
      "    copying xgboost\\src\\logging.cc -> build\\temp.win32-3.8\\Release\\xgboost\\src\n",
      "    creating build\\temp.win32-3.8\\Release\\xgboost\\src\\metric\n",
      "    copying xgboost\\src\\metric\\auc.cc -> build\\temp.win32-3.8\\Release\\xgboost\\src\\metric\n",
      "    copying xgboost\\src\\metric\\auc.cu -> build\\temp.win32-3.8\\Release\\xgboost\\src\\metric\n",
      "    copying xgboost\\src\\metric\\auc.h -> build\\temp.win32-3.8\\Release\\xgboost\\src\\metric\n",
      "    copying xgboost\\src\\metric\\elementwise_metric.cc -> build\\temp.win32-3.8\\Release\\xgboost\\src\\metric\n",
      "    copying xgboost\\src\\metric\\elementwise_metric.cu -> build\\temp.win32-3.8\\Release\\xgboost\\src\\metric\n",
      "    copying xgboost\\src\\metric\\metric.cc -> build\\temp.win32-3.8\\Release\\xgboost\\src\\metric\n",
      "    copying xgboost\\src\\metric\\metric_common.h -> build\\temp.win32-3.8\\Release\\xgboost\\src\\metric\n",
      "    copying xgboost\\src\\metric\\multiclass_metric.cc -> build\\temp.win32-3.8\\Release\\xgboost\\src\\metric\n",
      "    copying xgboost\\src\\metric\\multiclass_metric.cu -> build\\temp.win32-3.8\\Release\\xgboost\\src\\metric\n",
      "    copying xgboost\\src\\metric\\rank_metric.cc -> build\\temp.win32-3.8\\Release\\xgboost\\src\\metric\n",
      "    copying xgboost\\src\\metric\\rank_metric.cu -> build\\temp.win32-3.8\\Release\\xgboost\\src\\metric\n",
      "    copying xgboost\\src\\metric\\survival_metric.cc -> build\\temp.win32-3.8\\Release\\xgboost\\src\\metric\n",
      "    copying xgboost\\src\\metric\\survival_metric.cu -> build\\temp.win32-3.8\\Release\\xgboost\\src\\metric\n",
      "    creating build\\temp.win32-3.8\\Release\\xgboost\\src\\objective\n",
      "    copying xgboost\\src\\objective\\aft_obj.cc -> build\\temp.win32-3.8\\Release\\xgboost\\src\\objective\n",
      "    copying xgboost\\src\\objective\\aft_obj.cu -> build\\temp.win32-3.8\\Release\\xgboost\\src\\objective\n",
      "    copying xgboost\\src\\objective\\hinge.cc -> build\\temp.win32-3.8\\Release\\xgboost\\src\\objective\n",
      "    copying xgboost\\src\\objective\\hinge.cu -> build\\temp.win32-3.8\\Release\\xgboost\\src\\objective\n",
      "    copying xgboost\\src\\objective\\multiclass_obj.cc -> build\\temp.win32-3.8\\Release\\xgboost\\src\\objective\n",
      "    copying xgboost\\src\\objective\\multiclass_obj.cu -> build\\temp.win32-3.8\\Release\\xgboost\\src\\objective\n",
      "    copying xgboost\\src\\objective\\objective.cc -> build\\temp.win32-3.8\\Release\\xgboost\\src\\objective\n",
      "    copying xgboost\\src\\objective\\rank_obj.cc -> build\\temp.win32-3.8\\Release\\xgboost\\src\\objective\n",
      "    copying xgboost\\src\\objective\\rank_obj.cu -> build\\temp.win32-3.8\\Release\\xgboost\\src\\objective\n",
      "    copying xgboost\\src\\objective\\regression_loss.h -> build\\temp.win32-3.8\\Release\\xgboost\\src\\objective\n",
      "    copying xgboost\\src\\objective\\regression_obj.cc -> build\\temp.win32-3.8\\Release\\xgboost\\src\\objective\n",
      "    copying xgboost\\src\\objective\\regression_obj.cu -> build\\temp.win32-3.8\\Release\\xgboost\\src\\objective\n",
      "    creating build\\temp.win32-3.8\\Release\\xgboost\\src\\predictor\n",
      "    copying xgboost\\src\\predictor\\cpu_predictor.cc -> build\\temp.win32-3.8\\Release\\xgboost\\src\\predictor\n",
      "    copying xgboost\\src\\predictor\\gpu_predictor.cu -> build\\temp.win32-3.8\\Release\\xgboost\\src\\predictor\n",
      "    copying xgboost\\src\\predictor\\predictor.cc -> build\\temp.win32-3.8\\Release\\xgboost\\src\\predictor\n",
      "    creating build\\temp.win32-3.8\\Release\\xgboost\\src\\tree\n",
      "    copying xgboost\\src\\tree\\constraints.cc -> build\\temp.win32-3.8\\Release\\xgboost\\src\\tree\n",
      "    copying xgboost\\src\\tree\\constraints.cu -> build\\temp.win32-3.8\\Release\\xgboost\\src\\tree\n",
      "    copying xgboost\\src\\tree\\constraints.cuh -> build\\temp.win32-3.8\\Release\\xgboost\\src\\tree\n",
      "    copying xgboost\\src\\tree\\constraints.h -> build\\temp.win32-3.8\\Release\\xgboost\\src\\tree\n",
      "    creating build\\temp.win32-3.8\\Release\\xgboost\\src\\tree\\gpu_hist\n",
      "    copying xgboost\\src\\tree\\gpu_hist\\driver.cuh -> build\\temp.win32-3.8\\Release\\xgboost\\src\\tree\\gpu_hist\n",
      "    copying xgboost\\src\\tree\\gpu_hist\\evaluate_splits.cu -> build\\temp.win32-3.8\\Release\\xgboost\\src\\tree\\gpu_hist\n",
      "    copying xgboost\\src\\tree\\gpu_hist\\evaluate_splits.cuh -> build\\temp.win32-3.8\\Release\\xgboost\\src\\tree\\gpu_hist\n",
      "    copying xgboost\\src\\tree\\gpu_hist\\feature_groups.cu -> build\\temp.win32-3.8\\Release\\xgboost\\src\\tree\\gpu_hist\n",
      "    copying xgboost\\src\\tree\\gpu_hist\\feature_groups.cuh -> build\\temp.win32-3.8\\Release\\xgboost\\src\\tree\\gpu_hist\n",
      "    copying xgboost\\src\\tree\\gpu_hist\\gradient_based_sampler.cu -> build\\temp.win32-3.8\\Release\\xgboost\\src\\tree\\gpu_hist\n",
      "    copying xgboost\\src\\tree\\gpu_hist\\gradient_based_sampler.cuh -> build\\temp.win32-3.8\\Release\\xgboost\\src\\tree\\gpu_hist\n",
      "    copying xgboost\\src\\tree\\gpu_hist\\histogram.cu -> build\\temp.win32-3.8\\Release\\xgboost\\src\\tree\\gpu_hist\n",
      "    copying xgboost\\src\\tree\\gpu_hist\\histogram.cuh -> build\\temp.win32-3.8\\Release\\xgboost\\src\\tree\\gpu_hist\n",
      "    copying xgboost\\src\\tree\\gpu_hist\\row_partitioner.cu -> build\\temp.win32-3.8\\Release\\xgboost\\src\\tree\\gpu_hist\n",
      "    copying xgboost\\src\\tree\\gpu_hist\\row_partitioner.cuh -> build\\temp.win32-3.8\\Release\\xgboost\\src\\tree\\gpu_hist\n",
      "    copying xgboost\\src\\tree\\param.cc -> build\\temp.win32-3.8\\Release\\xgboost\\src\\tree\n",
      "    copying xgboost\\src\\tree\\param.h -> build\\temp.win32-3.8\\Release\\xgboost\\src\\tree\n",
      "    copying xgboost\\src\\tree\\split_evaluator.h -> build\\temp.win32-3.8\\Release\\xgboost\\src\\tree\n",
      "    copying xgboost\\src\\tree\\tree_model.cc -> build\\temp.win32-3.8\\Release\\xgboost\\src\\tree\n",
      "    copying xgboost\\src\\tree\\tree_updater.cc -> build\\temp.win32-3.8\\Release\\xgboost\\src\\tree\n",
      "    copying xgboost\\src\\tree\\updater_basemaker-inl.h -> build\\temp.win32-3.8\\Release\\xgboost\\src\\tree\n",
      "    copying xgboost\\src\\tree\\updater_colmaker.cc -> build\\temp.win32-3.8\\Release\\xgboost\\src\\tree\n",
      "    copying xgboost\\src\\tree\\updater_gpu_common.cuh -> build\\temp.win32-3.8\\Release\\xgboost\\src\\tree\n",
      "    copying xgboost\\src\\tree\\updater_gpu_hist.cu -> build\\temp.win32-3.8\\Release\\xgboost\\src\\tree\n",
      "    copying xgboost\\src\\tree\\updater_histmaker.cc -> build\\temp.win32-3.8\\Release\\xgboost\\src\\tree\n",
      "    copying xgboost\\src\\tree\\updater_prune.cc -> build\\temp.win32-3.8\\Release\\xgboost\\src\\tree\n",
      "    copying xgboost\\src\\tree\\updater_quantile_hist.cc -> build\\temp.win32-3.8\\Release\\xgboost\\src\\tree\n",
      "    copying xgboost\\src\\tree\\updater_quantile_hist.h -> build\\temp.win32-3.8\\Release\\xgboost\\src\\tree\n",
      "    copying xgboost\\src\\tree\\updater_refresh.cc -> build\\temp.win32-3.8\\Release\\xgboost\\src\\tree\n",
      "    copying xgboost\\src\\tree\\updater_sync.cc -> build\\temp.win32-3.8\\Release\\xgboost\\src\\tree\n",
      "    creating build\\temp.win32-3.8\\Release\\xgboost\\include\n",
      "    creating build\\temp.win32-3.8\\Release\\xgboost\\include\\xgboost\n",
      "    copying xgboost\\include\\xgboost\\base.h -> build\\temp.win32-3.8\\Release\\xgboost\\include\\xgboost\n",
      "    copying xgboost\\include\\xgboost\\c_api.h -> build\\temp.win32-3.8\\Release\\xgboost\\include\\xgboost\n",
      "    copying xgboost\\include\\xgboost\\data.h -> build\\temp.win32-3.8\\Release\\xgboost\\include\\xgboost\n",
      "    copying xgboost\\include\\xgboost\\feature_map.h -> build\\temp.win32-3.8\\Release\\xgboost\\include\\xgboost\n",
      "    copying xgboost\\include\\xgboost\\gbm.h -> build\\temp.win32-3.8\\Release\\xgboost\\include\\xgboost\n",
      "    copying xgboost\\include\\xgboost\\generic_parameters.h -> build\\temp.win32-3.8\\Release\\xgboost\\include\\xgboost\n",
      "    copying xgboost\\include\\xgboost\\global_config.h -> build\\temp.win32-3.8\\Release\\xgboost\\include\\xgboost\n",
      "    copying xgboost\\include\\xgboost\\host_device_vector.h -> build\\temp.win32-3.8\\Release\\xgboost\\include\\xgboost\n",
      "    copying xgboost\\include\\xgboost\\intrusive_ptr.h -> build\\temp.win32-3.8\\Release\\xgboost\\include\\xgboost\n",
      "    copying xgboost\\include\\xgboost\\json.h -> build\\temp.win32-3.8\\Release\\xgboost\\include\\xgboost\n",
      "    copying xgboost\\include\\xgboost\\json_io.h -> build\\temp.win32-3.8\\Release\\xgboost\\include\\xgboost\n",
      "    copying xgboost\\include\\xgboost\\learner.h -> build\\temp.win32-3.8\\Release\\xgboost\\include\\xgboost\n",
      "    copying xgboost\\include\\xgboost\\linear_updater.h -> build\\temp.win32-3.8\\Release\\xgboost\\include\\xgboost\n",
      "    copying xgboost\\include\\xgboost\\logging.h -> build\\temp.win32-3.8\\Release\\xgboost\\include\\xgboost\n",
      "    copying xgboost\\include\\xgboost\\metric.h -> build\\temp.win32-3.8\\Release\\xgboost\\include\\xgboost\n",
      "    copying xgboost\\include\\xgboost\\model.h -> build\\temp.win32-3.8\\Release\\xgboost\\include\\xgboost\n",
      "    copying xgboost\\include\\xgboost\\objective.h -> build\\temp.win32-3.8\\Release\\xgboost\\include\\xgboost\n",
      "    copying xgboost\\include\\xgboost\\parameter.h -> build\\temp.win32-3.8\\Release\\xgboost\\include\\xgboost\n",
      "    copying xgboost\\include\\xgboost\\predictor.h -> build\\temp.win32-3.8\\Release\\xgboost\\include\\xgboost\n",
      "    copying xgboost\\include\\xgboost\\span.h -> build\\temp.win32-3.8\\Release\\xgboost\\include\\xgboost\n",
      "    copying xgboost\\include\\xgboost\\tree_model.h -> build\\temp.win32-3.8\\Release\\xgboost\\include\\xgboost\n",
      "    copying xgboost\\include\\xgboost\\tree_updater.h -> build\\temp.win32-3.8\\Release\\xgboost\\include\\xgboost\n",
      "    copying xgboost\\include\\xgboost\\version_config.h -> build\\temp.win32-3.8\\Release\\xgboost\\include\\xgboost\n",
      "    creating build\\temp.win32-3.8\\Release\\xgboost\\dmlc-core\n",
      "    creating build\\temp.win32-3.8\\Release\\xgboost\\dmlc-core\\cmake\n",
      "    copying xgboost\\dmlc-core\\cmake\\build_config.h.in -> build\\temp.win32-3.8\\Release\\xgboost\\dmlc-core\\cmake\n",
      "    copying xgboost\\dmlc-core\\cmake\\dmlc-config.cmake.in -> build\\temp.win32-3.8\\Release\\xgboost\\dmlc-core\\cmake\n",
      "    creating build\\temp.win32-3.8\\Release\\xgboost\\dmlc-core\\cmake\\Modules\n",
      "    copying xgboost\\dmlc-core\\cmake\\Modules\\FindHDFS.cmake -> build\\temp.win32-3.8\\Release\\xgboost\\dmlc-core\\cmake\\Modules\n",
      "    copying xgboost\\dmlc-core\\cmake\\Utils.cmake -> build\\temp.win32-3.8\\Release\\xgboost\\dmlc-core\\cmake\n",
      "    copying xgboost\\dmlc-core\\CMakeLists.txt -> build\\temp.win32-3.8\\Release\\xgboost\\dmlc-core\n",
      "    creating build\\temp.win32-3.8\\Release\\xgboost\\dmlc-core\\include\n",
      "    creating build\\temp.win32-3.8\\Release\\xgboost\\dmlc-core\\include\\dmlc\n",
      "    copying xgboost\\dmlc-core\\include\\dmlc\\any.h -> build\\temp.win32-3.8\\Release\\xgboost\\dmlc-core\\include\\dmlc\n",
      "    copying xgboost\\dmlc-core\\include\\dmlc\\array_view.h -> build\\temp.win32-3.8\\Release\\xgboost\\dmlc-core\\include\\dmlc\n",
      "    copying xgboost\\dmlc-core\\include\\dmlc\\base.h -> build\\temp.win32-3.8\\Release\\xgboost\\dmlc-core\\include\\dmlc\n",
      "    copying xgboost\\dmlc-core\\include\\dmlc\\blockingconcurrentqueue.h -> build\\temp.win32-3.8\\Release\\xgboost\\dmlc-core\\include\\dmlc\n",
      "    copying xgboost\\dmlc-core\\include\\dmlc\\build_config_default.h -> build\\temp.win32-3.8\\Release\\xgboost\\dmlc-core\\include\\dmlc\n",
      "    copying xgboost\\dmlc-core\\include\\dmlc\\common.h -> build\\temp.win32-3.8\\Release\\xgboost\\dmlc-core\\include\\dmlc\n",
      "    copying xgboost\\dmlc-core\\include\\dmlc\\concurrency.h -> build\\temp.win32-3.8\\Release\\xgboost\\dmlc-core\\include\\dmlc\n",
      "    copying xgboost\\dmlc-core\\include\\dmlc\\concurrentqueue.h -> build\\temp.win32-3.8\\Release\\xgboost\\dmlc-core\\include\\dmlc\n",
      "    copying xgboost\\dmlc-core\\include\\dmlc\\config.h -> build\\temp.win32-3.8\\Release\\xgboost\\dmlc-core\\include\\dmlc\n",
      "    copying xgboost\\dmlc-core\\include\\dmlc\\data.h -> build\\temp.win32-3.8\\Release\\xgboost\\dmlc-core\\include\\dmlc\n",
      "    copying xgboost\\dmlc-core\\include\\dmlc\\endian.h -> build\\temp.win32-3.8\\Release\\xgboost\\dmlc-core\\include\\dmlc\n",
      "    copying xgboost\\dmlc-core\\include\\dmlc\\filesystem.h -> build\\temp.win32-3.8\\Release\\xgboost\\dmlc-core\\include\\dmlc\n",
      "    copying xgboost\\dmlc-core\\include\\dmlc\\input_split_shuffle.h -> build\\temp.win32-3.8\\Release\\xgboost\\dmlc-core\\include\\dmlc\n",
      "    copying xgboost\\dmlc-core\\include\\dmlc\\io.h -> build\\temp.win32-3.8\\Release\\xgboost\\dmlc-core\\include\\dmlc\n",
      "    copying xgboost\\dmlc-core\\include\\dmlc\\json.h -> build\\temp.win32-3.8\\Release\\xgboost\\dmlc-core\\include\\dmlc\n",
      "    copying xgboost\\dmlc-core\\include\\dmlc\\logging.h -> build\\temp.win32-3.8\\Release\\xgboost\\dmlc-core\\include\\dmlc\n",
      "    copying xgboost\\dmlc-core\\include\\dmlc\\lua.h -> build\\temp.win32-3.8\\Release\\xgboost\\dmlc-core\\include\\dmlc\n",
      "    copying xgboost\\dmlc-core\\include\\dmlc\\memory.h -> build\\temp.win32-3.8\\Release\\xgboost\\dmlc-core\\include\\dmlc\n",
      "    copying xgboost\\dmlc-core\\include\\dmlc\\memory_io.h -> build\\temp.win32-3.8\\Release\\xgboost\\dmlc-core\\include\\dmlc\n",
      "    copying xgboost\\dmlc-core\\include\\dmlc\\omp.h -> build\\temp.win32-3.8\\Release\\xgboost\\dmlc-core\\include\\dmlc\n",
      "    copying xgboost\\dmlc-core\\include\\dmlc\\optional.h -> build\\temp.win32-3.8\\Release\\xgboost\\dmlc-core\\include\\dmlc\n",
      "    copying xgboost\\dmlc-core\\include\\dmlc\\parameter.h -> build\\temp.win32-3.8\\Release\\xgboost\\dmlc-core\\include\\dmlc\n",
      "    copying xgboost\\dmlc-core\\include\\dmlc\\recordio.h -> build\\temp.win32-3.8\\Release\\xgboost\\dmlc-core\\include\\dmlc\n",
      "    copying xgboost\\dmlc-core\\include\\dmlc\\registry.h -> build\\temp.win32-3.8\\Release\\xgboost\\dmlc-core\\include\\dmlc\n",
      "    copying xgboost\\dmlc-core\\include\\dmlc\\serializer.h -> build\\temp.win32-3.8\\Release\\xgboost\\dmlc-core\\include\\dmlc\n",
      "    copying xgboost\\dmlc-core\\include\\dmlc\\strtonum.h -> build\\temp.win32-3.8\\Release\\xgboost\\dmlc-core\\include\\dmlc\n",
      "    copying xgboost\\dmlc-core\\include\\dmlc\\threadediter.h -> build\\temp.win32-3.8\\Release\\xgboost\\dmlc-core\\include\\dmlc\n",
      "    copying xgboost\\dmlc-core\\include\\dmlc\\thread_group.h -> build\\temp.win32-3.8\\Release\\xgboost\\dmlc-core\\include\\dmlc\n",
      "    copying xgboost\\dmlc-core\\include\\dmlc\\thread_local.h -> build\\temp.win32-3.8\\Release\\xgboost\\dmlc-core\\include\\dmlc\n",
      "    copying xgboost\\dmlc-core\\include\\dmlc\\timer.h -> build\\temp.win32-3.8\\Release\\xgboost\\dmlc-core\\include\\dmlc\n",
      "    copying xgboost\\dmlc-core\\include\\dmlc\\type_traits.h -> build\\temp.win32-3.8\\Release\\xgboost\\dmlc-core\\include\\dmlc\n",
      "    creating build\\temp.win32-3.8\\Release\\xgboost\\dmlc-core\\make\n",
      "    copying xgboost\\dmlc-core\\make\\config.mk -> build\\temp.win32-3.8\\Release\\xgboost\\dmlc-core\\make\n",
      "    copying xgboost\\dmlc-core\\make\\dmlc.mk -> build\\temp.win32-3.8\\Release\\xgboost\\dmlc-core\\make\n",
      "    creating build\\temp.win32-3.8\\Release\\xgboost\\dmlc-core\\src\n",
      "    copying xgboost\\dmlc-core\\src\\config.cc -> build\\temp.win32-3.8\\Release\\xgboost\\dmlc-core\\src\n",
      "    creating build\\temp.win32-3.8\\Release\\xgboost\\dmlc-core\\src\\data\n",
      "    copying xgboost\\dmlc-core\\src\\data\\basic_row_iter.h -> build\\temp.win32-3.8\\Release\\xgboost\\dmlc-core\\src\\data\n",
      "    copying xgboost\\dmlc-core\\src\\data\\csv_parser.h -> build\\temp.win32-3.8\\Release\\xgboost\\dmlc-core\\src\\data\n",
      "    copying xgboost\\dmlc-core\\src\\data\\disk_row_iter.h -> build\\temp.win32-3.8\\Release\\xgboost\\dmlc-core\\src\\data\n",
      "    copying xgboost\\dmlc-core\\src\\data\\libfm_parser.h -> build\\temp.win32-3.8\\Release\\xgboost\\dmlc-core\\src\\data\n",
      "    copying xgboost\\dmlc-core\\src\\data\\libsvm_parser.h -> build\\temp.win32-3.8\\Release\\xgboost\\dmlc-core\\src\\data\n",
      "    copying xgboost\\dmlc-core\\src\\data\\parser.h -> build\\temp.win32-3.8\\Release\\xgboost\\dmlc-core\\src\\data\n",
      "    copying xgboost\\dmlc-core\\src\\data\\row_block.h -> build\\temp.win32-3.8\\Release\\xgboost\\dmlc-core\\src\\data\n",
      "    copying xgboost\\dmlc-core\\src\\data\\text_parser.h -> build\\temp.win32-3.8\\Release\\xgboost\\dmlc-core\\src\\data\n",
      "    copying xgboost\\dmlc-core\\src\\data.cc -> build\\temp.win32-3.8\\Release\\xgboost\\dmlc-core\\src\n",
      "    creating build\\temp.win32-3.8\\Release\\xgboost\\dmlc-core\\src\\io\n",
      "    copying xgboost\\dmlc-core\\src\\io\\azure_filesys.cc -> build\\temp.win32-3.8\\Release\\xgboost\\dmlc-core\\src\\io\n",
      "    copying xgboost\\dmlc-core\\src\\io\\azure_filesys.h -> build\\temp.win32-3.8\\Release\\xgboost\\dmlc-core\\src\\io\n",
      "    copying xgboost\\dmlc-core\\src\\io\\cached_input_split.h -> build\\temp.win32-3.8\\Release\\xgboost\\dmlc-core\\src\\io\n",
      "    copying xgboost\\dmlc-core\\src\\io\\filesys.cc -> build\\temp.win32-3.8\\Release\\xgboost\\dmlc-core\\src\\io\n",
      "    copying xgboost\\dmlc-core\\src\\io\\hdfs_filesys.cc -> build\\temp.win32-3.8\\Release\\xgboost\\dmlc-core\\src\\io\n",
      "    copying xgboost\\dmlc-core\\src\\io\\hdfs_filesys.h -> build\\temp.win32-3.8\\Release\\xgboost\\dmlc-core\\src\\io\n",
      "    copying xgboost\\dmlc-core\\src\\io\\indexed_recordio_split.cc -> build\\temp.win32-3.8\\Release\\xgboost\\dmlc-core\\src\\io\n",
      "    copying xgboost\\dmlc-core\\src\\io\\indexed_recordio_split.h -> build\\temp.win32-3.8\\Release\\xgboost\\dmlc-core\\src\\io\n",
      "    copying xgboost\\dmlc-core\\src\\io\\input_split_base.cc -> build\\temp.win32-3.8\\Release\\xgboost\\dmlc-core\\src\\io\n",
      "    copying xgboost\\dmlc-core\\src\\io\\input_split_base.h -> build\\temp.win32-3.8\\Release\\xgboost\\dmlc-core\\src\\io\n",
      "    copying xgboost\\dmlc-core\\src\\io\\line_split.cc -> build\\temp.win32-3.8\\Release\\xgboost\\dmlc-core\\src\\io\n",
      "    copying xgboost\\dmlc-core\\src\\io\\line_split.h -> build\\temp.win32-3.8\\Release\\xgboost\\dmlc-core\\src\\io\n",
      "    copying xgboost\\dmlc-core\\src\\io\\local_filesys.cc -> build\\temp.win32-3.8\\Release\\xgboost\\dmlc-core\\src\\io\n",
      "    copying xgboost\\dmlc-core\\src\\io\\local_filesys.h -> build\\temp.win32-3.8\\Release\\xgboost\\dmlc-core\\src\\io\n",
      "    copying xgboost\\dmlc-core\\src\\io\\recordio_split.cc -> build\\temp.win32-3.8\\Release\\xgboost\\dmlc-core\\src\\io\n",
      "    copying xgboost\\dmlc-core\\src\\io\\recordio_split.h -> build\\temp.win32-3.8\\Release\\xgboost\\dmlc-core\\src\\io\n",
      "    copying xgboost\\dmlc-core\\src\\io\\s3_filesys.cc -> build\\temp.win32-3.8\\Release\\xgboost\\dmlc-core\\src\\io\n",
      "    copying xgboost\\dmlc-core\\src\\io\\s3_filesys.h -> build\\temp.win32-3.8\\Release\\xgboost\\dmlc-core\\src\\io\n",
      "    copying xgboost\\dmlc-core\\src\\io\\single_file_split.h -> build\\temp.win32-3.8\\Release\\xgboost\\dmlc-core\\src\\io\n",
      "    copying xgboost\\dmlc-core\\src\\io\\single_threaded_input_split.h -> build\\temp.win32-3.8\\Release\\xgboost\\dmlc-core\\src\\io\n",
      "    copying xgboost\\dmlc-core\\src\\io\\threaded_input_split.h -> build\\temp.win32-3.8\\Release\\xgboost\\dmlc-core\\src\\io\n",
      "    copying xgboost\\dmlc-core\\src\\io\\uri_spec.h -> build\\temp.win32-3.8\\Release\\xgboost\\dmlc-core\\src\\io\n",
      "    copying xgboost\\dmlc-core\\src\\io.cc -> build\\temp.win32-3.8\\Release\\xgboost\\dmlc-core\\src\n",
      "    copying xgboost\\dmlc-core\\src\\recordio.cc -> build\\temp.win32-3.8\\Release\\xgboost\\dmlc-core\\src\n",
      "    creating build\\temp.win32-3.8\\Release\\xgboost\\dmlc-core\\tracker\n",
      "    copying xgboost\\dmlc-core\\tracker\\dmlc-submit -> build\\temp.win32-3.8\\Release\\xgboost\\dmlc-core\\tracker\n",
      "    creating build\\temp.win32-3.8\\Release\\xgboost\\dmlc-core\\tracker\\dmlc_tracker\n",
      "    copying xgboost\\dmlc-core\\tracker\\dmlc_tracker\\kubernetes.py -> build\\temp.win32-3.8\\Release\\xgboost\\dmlc-core\\tracker\\dmlc_tracker\n",
      "    copying xgboost\\dmlc-core\\tracker\\dmlc_tracker\\launcher.py -> build\\temp.win32-3.8\\Release\\xgboost\\dmlc-core\\tracker\\dmlc_tracker\n",
      "    copying xgboost\\dmlc-core\\tracker\\dmlc_tracker\\local.py -> build\\temp.win32-3.8\\Release\\xgboost\\dmlc-core\\tracker\\dmlc_tracker\n",
      "    copying xgboost\\dmlc-core\\tracker\\dmlc_tracker\\mesos.py -> build\\temp.win32-3.8\\Release\\xgboost\\dmlc-core\\tracker\\dmlc_tracker\n",
      "    copying xgboost\\dmlc-core\\tracker\\dmlc_tracker\\mpi.py -> build\\temp.win32-3.8\\Release\\xgboost\\dmlc-core\\tracker\\dmlc_tracker\n",
      "    copying xgboost\\dmlc-core\\tracker\\dmlc_tracker\\opts.py -> build\\temp.win32-3.8\\Release\\xgboost\\dmlc-core\\tracker\\dmlc_tracker\n",
      "    copying xgboost\\dmlc-core\\tracker\\dmlc_tracker\\sge.py -> build\\temp.win32-3.8\\Release\\xgboost\\dmlc-core\\tracker\\dmlc_tracker\n",
      "    copying xgboost\\dmlc-core\\tracker\\dmlc_tracker\\slurm.py -> build\\temp.win32-3.8\\Release\\xgboost\\dmlc-core\\tracker\\dmlc_tracker\n",
      "    copying xgboost\\dmlc-core\\tracker\\dmlc_tracker\\ssh.py -> build\\temp.win32-3.8\\Release\\xgboost\\dmlc-core\\tracker\\dmlc_tracker\n",
      "    copying xgboost\\dmlc-core\\tracker\\dmlc_tracker\\submit.py -> build\\temp.win32-3.8\\Release\\xgboost\\dmlc-core\\tracker\\dmlc_tracker\n",
      "    copying xgboost\\dmlc-core\\tracker\\dmlc_tracker\\tracker.py -> build\\temp.win32-3.8\\Release\\xgboost\\dmlc-core\\tracker\\dmlc_tracker\n",
      "    copying xgboost\\dmlc-core\\tracker\\dmlc_tracker\\util.py -> build\\temp.win32-3.8\\Release\\xgboost\\dmlc-core\\tracker\\dmlc_tracker\n",
      "    copying xgboost\\dmlc-core\\tracker\\dmlc_tracker\\yarn.py -> build\\temp.win32-3.8\\Release\\xgboost\\dmlc-core\\tracker\\dmlc_tracker\n",
      "    copying xgboost\\dmlc-core\\tracker\\dmlc_tracker\\__init__.py -> build\\temp.win32-3.8\\Release\\xgboost\\dmlc-core\\tracker\\dmlc_tracker\n",
      "    creating build\\temp.win32-3.8\\Release\\xgboost\\dmlc-core\\tracker\\yarn\n",
      "    copying xgboost\\dmlc-core\\tracker\\yarn\\build.bat -> build\\temp.win32-3.8\\Release\\xgboost\\dmlc-core\\tracker\\yarn\n",
      "    copying xgboost\\dmlc-core\\tracker\\yarn\\build.sh -> build\\temp.win32-3.8\\Release\\xgboost\\dmlc-core\\tracker\\yarn\n",
      "    copying xgboost\\dmlc-core\\tracker\\yarn\\pom.xml -> build\\temp.win32-3.8\\Release\\xgboost\\dmlc-core\\tracker\\yarn\n",
      "    creating build\\temp.win32-3.8\\Release\\xgboost\\dmlc-core\\tracker\\yarn\\src\n",
      "    creating build\\temp.win32-3.8\\Release\\xgboost\\dmlc-core\\tracker\\yarn\\src\\main\n",
      "    creating build\\temp.win32-3.8\\Release\\xgboost\\dmlc-core\\tracker\\yarn\\src\\main\\java\n",
      "    creating build\\temp.win32-3.8\\Release\\xgboost\\dmlc-core\\tracker\\yarn\\src\\main\\java\\org\n",
      "    creating build\\temp.win32-3.8\\Release\\xgboost\\dmlc-core\\tracker\\yarn\\src\\main\\java\\org\\apache\n",
      "    creating build\\temp.win32-3.8\\Release\\xgboost\\dmlc-core\\tracker\\yarn\\src\\main\\java\\org\\apache\\hadoop\n",
      "    creating build\\temp.win32-3.8\\Release\\xgboost\\dmlc-core\\tracker\\yarn\\src\\main\\java\\org\\apache\\hadoop\\yarn\n",
      "    creating build\\temp.win32-3.8\\Release\\xgboost\\dmlc-core\\tracker\\yarn\\src\\main\\java\\org\\apache\\hadoop\\yarn\\dmlc\n",
      "    copying xgboost\\dmlc-core\\tracker\\yarn\\src\\main\\java\\org\\apache\\hadoop\\yarn\\dmlc\\ApplicationMaster.java -> build\\temp.win32-3.8\\Release\\xgboost\\dmlc-core\\tracker\\yarn\\src\\main\\java\\org\\apache\\hadoop\\yarn\\dmlc\n",
      "    copying xgboost\\dmlc-core\\tracker\\yarn\\src\\main\\java\\org\\apache\\hadoop\\yarn\\dmlc\\Client.java -> build\\temp.win32-3.8\\Release\\xgboost\\dmlc-core\\tracker\\yarn\\src\\main\\java\\org\\apache\\hadoop\\yarn\\dmlc\n",
      "    copying xgboost\\dmlc-core\\tracker\\yarn\\src\\main\\java\\org\\apache\\hadoop\\yarn\\dmlc\\TaskRecord.java -> build\\temp.win32-3.8\\Release\\xgboost\\dmlc-core\\tracker\\yarn\\src\\main\\java\\org\\apache\\hadoop\\yarn\\dmlc\n",
      "    creating build\\temp.win32-3.8\\Release\\xgboost\\dmlc-core\\windows\n",
      "    creating build\\temp.win32-3.8\\Release\\xgboost\\dmlc-core\\windows\\dmlc\n",
      "    copying xgboost\\dmlc-core\\windows\\dmlc\\dmlc.vcxproj -> build\\temp.win32-3.8\\Release\\xgboost\\dmlc-core\\windows\\dmlc\n",
      "    copying xgboost\\dmlc-core\\windows\\dmlc.sln -> build\\temp.win32-3.8\\Release\\xgboost\\dmlc-core\\windows\n",
      "    creating build\\temp.win32-3.8\\Release\\xgboost\\rabit\n",
      "    copying xgboost\\rabit\\CMakeLists.txt -> build\\temp.win32-3.8\\Release\\xgboost\\rabit\n",
      "    creating build\\temp.win32-3.8\\Release\\xgboost\\rabit\\include\n",
      "    creating build\\temp.win32-3.8\\Release\\xgboost\\rabit\\include\\rabit\n",
      "    copying xgboost\\rabit\\include\\rabit\\base.h -> build\\temp.win32-3.8\\Release\\xgboost\\rabit\\include\\rabit\n",
      "    copying xgboost\\rabit\\include\\rabit\\c_api.h -> build\\temp.win32-3.8\\Release\\xgboost\\rabit\\include\\rabit\n",
      "    creating build\\temp.win32-3.8\\Release\\xgboost\\rabit\\include\\rabit\\internal\n",
      "    copying xgboost\\rabit\\include\\rabit\\internal\\engine.h -> build\\temp.win32-3.8\\Release\\xgboost\\rabit\\include\\rabit\\internal\n",
      "    copying xgboost\\rabit\\include\\rabit\\internal\\io.h -> build\\temp.win32-3.8\\Release\\xgboost\\rabit\\include\\rabit\\internal\n"
     ]
    },
    {
     "name": "stderr",
     "output_type": "stream",
     "text": [
      "    copying xgboost\\rabit\\include\\rabit\\internal\\rabit-inl.h -> build\\temp.win32-3.8\\Release\\xgboost\\rabit\\include\\rabit\\internal\n",
      "    copying xgboost\\rabit\\include\\rabit\\internal\\socket.h -> build\\temp.win32-3.8\\Release\\xgboost\\rabit\\include\\rabit\\internal\n",
      "    copying xgboost\\rabit\\include\\rabit\\internal\\utils.h -> build\\temp.win32-3.8\\Release\\xgboost\\rabit\\include\\rabit\\internal\n",
      "    copying xgboost\\rabit\\include\\rabit\\rabit.h -> build\\temp.win32-3.8\\Release\\xgboost\\rabit\\include\\rabit\n",
      "    copying xgboost\\rabit\\include\\rabit\\serializable.h -> build\\temp.win32-3.8\\Release\\xgboost\\rabit\\include\\rabit\n",
      "    creating build\\temp.win32-3.8\\Release\\xgboost\\rabit\\src\n",
      "    copying xgboost\\rabit\\src\\allreduce_base.cc -> build\\temp.win32-3.8\\Release\\xgboost\\rabit\\src\n",
      "    copying xgboost\\rabit\\src\\allreduce_base.h -> build\\temp.win32-3.8\\Release\\xgboost\\rabit\\src\n",
      "    copying xgboost\\rabit\\src\\allreduce_mock.h -> build\\temp.win32-3.8\\Release\\xgboost\\rabit\\src\n",
      "    copying xgboost\\rabit\\src\\c_api.cc -> build\\temp.win32-3.8\\Release\\xgboost\\rabit\\src\n",
      "    copying xgboost\\rabit\\src\\engine.cc -> build\\temp.win32-3.8\\Release\\xgboost\\rabit\\src\n",
      "    copying xgboost\\rabit\\src\\engine_mock.cc -> build\\temp.win32-3.8\\Release\\xgboost\\rabit\\src\n",
      "    copying xgboost\\rabit\\src\\engine_mpi.cc -> build\\temp.win32-3.8\\Release\\xgboost\\rabit\\src\n",
      "    creating build\\temp.win32-3.8\\Release\\xgboost\\cmake\n",
      "    copying xgboost\\cmake\\Doc.cmake -> build\\temp.win32-3.8\\Release\\xgboost\\cmake\n",
      "    copying xgboost\\cmake\\FindPrefetchIntrinsics.cmake -> build\\temp.win32-3.8\\Release\\xgboost\\cmake\n",
      "    creating build\\temp.win32-3.8\\Release\\xgboost\\cmake\\modules\n",
      "    copying xgboost\\cmake\\modules\\FindNccl.cmake -> build\\temp.win32-3.8\\Release\\xgboost\\cmake\\modules\n",
      "    copying xgboost\\cmake\\modules\\FindNVML.cmake -> build\\temp.win32-3.8\\Release\\xgboost\\cmake\\modules\n",
      "    copying xgboost\\cmake\\modules\\FindNVTX.cmake -> build\\temp.win32-3.8\\Release\\xgboost\\cmake\\modules\n",
      "    copying xgboost\\cmake\\Python_version.in -> build\\temp.win32-3.8\\Release\\xgboost\\cmake\n",
      "    copying xgboost\\cmake\\Utils.cmake -> build\\temp.win32-3.8\\Release\\xgboost\\cmake\n",
      "    copying xgboost\\cmake\\Version.cmake -> build\\temp.win32-3.8\\Release\\xgboost\\cmake\n",
      "    copying xgboost\\cmake\\version_config.h.in -> build\\temp.win32-3.8\\Release\\xgboost\\cmake\n",
      "    copying xgboost\\cmake\\xgboost-config.cmake.in -> build\\temp.win32-3.8\\Release\\xgboost\\cmake\n",
      "    copying xgboost\\cmake\\xgboost.pc.in -> build\\temp.win32-3.8\\Release\\xgboost\\cmake\n",
      "    creating build\\temp.win32-3.8\\Release\\xgboost\\plugin\n",
      "    copying xgboost\\plugin\\CMakeLists.txt -> build\\temp.win32-3.8\\Release\\xgboost\\plugin\n",
      "    creating build\\temp.win32-3.8\\Release\\xgboost\\plugin\\dense_parser\n",
      "    copying xgboost\\plugin\\dense_parser\\dense_libsvm.cc -> build\\temp.win32-3.8\\Release\\xgboost\\plugin\\dense_parser\n",
      "    creating build\\temp.win32-3.8\\Release\\xgboost\\plugin\\example\n",
      "    copying xgboost\\plugin\\example\\custom_obj.cc -> build\\temp.win32-3.8\\Release\\xgboost\\plugin\\example\n",
      "    copying xgboost\\plugin\\example\\README.md -> build\\temp.win32-3.8\\Release\\xgboost\\plugin\\example\n",
      "    creating build\\temp.win32-3.8\\Release\\xgboost\\plugin\\lz4\n",
      "    copying xgboost\\plugin\\lz4\\sparse_page_lz4_format.cc -> build\\temp.win32-3.8\\Release\\xgboost\\plugin\\lz4\n",
      "    copying xgboost\\plugin\\README.md -> build\\temp.win32-3.8\\Release\\xgboost\\plugin\n",
      "    creating build\\temp.win32-3.8\\Release\\xgboost\\plugin\\updater_gpu\n",
      "    copying xgboost\\plugin\\updater_gpu\\README.md -> build\\temp.win32-3.8\\Release\\xgboost\\plugin\\updater_gpu\n",
      "    creating build\\temp.win32-3.8\\Release\\xgboost\\plugin\\updater_oneapi\n",
      "    copying xgboost\\plugin\\updater_oneapi\\predictor_oneapi.cc -> build\\temp.win32-3.8\\Release\\xgboost\\plugin\\updater_oneapi\n",
      "    copying xgboost\\plugin\\updater_oneapi\\README.md -> build\\temp.win32-3.8\\Release\\xgboost\\plugin\\updater_oneapi\n",
      "    copying xgboost\\plugin\\updater_oneapi\\regression_loss_oneapi.h -> build\\temp.win32-3.8\\Release\\xgboost\\plugin\\updater_oneapi\n",
      "    copying xgboost\\plugin\\updater_oneapi\\regression_obj_oneapi.cc -> build\\temp.win32-3.8\\Release\\xgboost\\plugin\\updater_oneapi\n",
      "    copying xgboost\\CMakeLists.txt -> build\\temp.win32-3.8\\Release\\xgboost\n",
      "    copying xgboost\\LICENSE -> build\\temp.win32-3.8\\Release\\xgboost\n",
      "    INFO:XGBoost build_ext:Building from source. C:\\Users\\sam\\AppData\\Local\\Temp\\pip-install-3bg0jelc\\lib\\xgboost.dll\n",
      "    INFO:XGBoost build_ext:Run CMake command: ['cmake', 'xgboost', '-GVisual Studio 16 2019', '-DUSE_OPENMP=1', '-DUSE_CUDA=0', '-DUSE_NCCL=0', '-DBUILD_WITH_SHARED_NCCL=0', '-DHIDE_CXX_SYMBOLS=1', '-DUSE_HDFS=0', '-DUSE_AZURE=0', '-DUSE_S3=0', '-DPLUGIN_LZ4=0', '-DPLUGIN_DENSE_PARSER=0']\n",
      "    error: [WinError 2] The system cannot find the file specified\n",
      "    ----------------------------------------\n",
      "ERROR: Command errored out with exit status 1: 'c:\\users\\sam\\appdata\\local\\programs\\python\\python38-32\\python.exe' -u -c 'import sys, setuptools, tokenize; sys.argv[0] = '\"'\"'C:\\\\Users\\\\sam\\\\AppData\\\\Local\\\\Temp\\\\pip-install-3bg0jelc\\\\xgboost_2de3a0737dba4ac6bff7b8455c4a9986\\\\setup.py'\"'\"'; __file__='\"'\"'C:\\\\Users\\\\sam\\\\AppData\\\\Local\\\\Temp\\\\pip-install-3bg0jelc\\\\xgboost_2de3a0737dba4ac6bff7b8455c4a9986\\\\setup.py'\"'\"';f=getattr(tokenize, '\"'\"'open'\"'\"', open)(__file__);code=f.read().replace('\"'\"'\\r\\n'\"'\"', '\"'\"'\\n'\"'\"');f.close();exec(compile(code, __file__, '\"'\"'exec'\"'\"'))' install --record 'C:\\Users\\sam\\AppData\\Local\\Temp\\pip-record-s_qwirdp\\install-record.txt' --single-version-externally-managed --compile --install-headers 'c:\\users\\sam\\appdata\\local\\programs\\python\\python38-32\\Include\\xgboost' Check the logs for full command output.\n"
     ]
    }
   ],
   "source": [
    "pip install xgboost"
   ]
  },
  {
   "cell_type": "code",
   "execution_count": 35,
   "metadata": {
    "_uuid": "15b081cfefb3b7467b8ea29100464b0698f992b9"
   },
   "outputs": [
    {
     "ename": "ModuleNotFoundError",
     "evalue": "No module named 'xgboost'",
     "output_type": "error",
     "traceback": [
      "\u001b[1;31m---------------------------------------------------------------------------\u001b[0m",
      "\u001b[1;31mModuleNotFoundError\u001b[0m                       Traceback (most recent call last)",
      "\u001b[1;32m<ipython-input-35-b0da19973ecb>\u001b[0m in \u001b[0;36m<module>\u001b[1;34m\u001b[0m\n\u001b[1;32m----> 1\u001b[1;33m \u001b[1;32mimport\u001b[0m \u001b[0mxgboost\u001b[0m\u001b[1;33m\u001b[0m\u001b[1;33m\u001b[0m\u001b[0m\n\u001b[0m\u001b[0;32m      2\u001b[0m \u001b[1;33m\u001b[0m\u001b[0m\n\u001b[0;32m      3\u001b[0m \u001b[1;31m#train XGBoost model\u001b[0m\u001b[1;33m\u001b[0m\u001b[1;33m\u001b[0m\u001b[1;33m\u001b[0m\u001b[0m\n\u001b[0;32m      4\u001b[0m xgb = xgboost.XGBClassifier(n_estimators=100, learning_rate=0.08, gamma=0, subsample=0.75,\n\u001b[0;32m      5\u001b[0m                            colsample_bytree=1, max_depth=7)\n",
      "\u001b[1;31mModuleNotFoundError\u001b[0m: No module named 'xgboost'"
     ]
    }
   ],
   "source": [
    "import xgboost\n",
    "\n",
    "#train XGBoost model\n",
    "xgb = xgboost.XGBClassifier(n_estimators=100, learning_rate=0.08, gamma=0, subsample=0.75,\n",
    "                           colsample_bytree=1, max_depth=7)"
   ]
  },
  {
   "cell_type": "code",
   "execution_count": null,
   "metadata": {},
   "outputs": [],
   "source": [
    "xgb.fit(X_train, y_train.squeeze().values)"
   ]
  },
  {
   "cell_type": "code",
   "execution_count": null,
   "metadata": {},
   "outputs": [],
   "source": [
    "y_train_preds = xgb.predict(X_train)\n",
    "y_test_preds = xgb.predict(X_test)"
   ]
  },
  {
   "cell_type": "code",
   "execution_count": null,
   "metadata": {},
   "outputs": [],
   "source": [
    "from sklearn.metrics import accuracy_score\n",
    "print('XGB accuracy score ofr train : %.3f and for test: %.3f' % (accuracy_score(y_train, y_train_preds),\n",
    "                                                                 accuracy_score(y_test, y_test_preds)))"
   ]
  },
  {
   "cell_type": "markdown",
   "metadata": {},
   "source": [
    "### Get feature importance from the trained model"
   ]
  },
  {
   "cell_type": "code",
   "execution_count": null,
   "metadata": {},
   "outputs": [],
   "source": [
    "headers = ['name', 'score']\n",
    "values = sorted(zip(X_train.columns, xgb.feature_importances_), key=lambda x: x[1]*-1)\n",
    "xgb_feature_importances_ = pd.DataFrame(values, columns=headers)\n",
    "xgb_feature_importances_"
   ]
  },
  {
   "cell_type": "code",
   "execution_count": null,
   "metadata": {},
   "outputs": [],
   "source": [
    "x_pos = np.arange(0, len(xgb_feature_importances_))\n",
    "plt.bar(x_pos, xgb_feature_importances_['score'])\n",
    "plt.xticks(x_pos, xgb_feature_importances_['name'])\n",
    "plt.xticks(rotation=90)\n",
    "plt.title('Feature Importance (XGB)')\n",
    "\n",
    "plt.show()"
   ]
  },
  {
   "cell_type": "code",
   "execution_count": null,
   "metadata": {},
   "outputs": [],
   "source": []
  }
 ],
 "metadata": {
  "kernelspec": {
   "display_name": "Python 3",
   "language": "python",
   "name": "python3"
  },
  "language_info": {
   "codemirror_mode": {
    "name": "ipython",
    "version": 3
   },
   "file_extension": ".py",
   "mimetype": "text/x-python",
   "name": "python",
   "nbconvert_exporter": "python",
   "pygments_lexer": "ipython3",
   "version": "3.8.5"
  }
 },
 "nbformat": 4,
 "nbformat_minor": 4
}
